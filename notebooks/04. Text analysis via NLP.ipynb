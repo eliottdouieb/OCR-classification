{
 "cells": [
  {
   "cell_type": "code",
   "execution_count": 1,
   "id": "446962b8",
   "metadata": {},
   "outputs": [],
   "source": [
    "import pandas as pd\n",
    "import numpy as np\n",
    "import matplotlib.pyplot as plt\n",
    "%matplotlib inline\n",
    "df = pd.read_csv('data_tokenized_2609_doctr_trad V2.txt', sep = '\\t')"
   ]
  },
  {
   "cell_type": "code",
   "execution_count": 2,
   "id": "203425b6",
   "metadata": {},
   "outputs": [
    {
     "data": {
      "text/html": [
       "<div>\n",
       "<style scoped>\n",
       "    .dataframe tbody tr th:only-of-type {\n",
       "        vertical-align: middle;\n",
       "    }\n",
       "\n",
       "    .dataframe tbody tr th {\n",
       "        vertical-align: top;\n",
       "    }\n",
       "\n",
       "    .dataframe thead th {\n",
       "        text-align: right;\n",
       "    }\n",
       "</style>\n",
       "<table border=\"1\" class=\"dataframe\">\n",
       "  <thead>\n",
       "    <tr style=\"text-align: right;\">\n",
       "      <th></th>\n",
       "      <th>filename</th>\n",
       "      <th>type</th>\n",
       "      <th>size</th>\n",
       "      <th>width</th>\n",
       "      <th>height</th>\n",
       "      <th>mots_doctr</th>\n",
       "      <th>nb_mots</th>\n",
       "      <th>mots_concat</th>\n",
       "      <th>Langue</th>\n",
       "      <th>mots_doctr_trad</th>\n",
       "    </tr>\n",
       "  </thead>\n",
       "  <tbody>\n",
       "    <tr>\n",
       "      <th>0</th>\n",
       "      <td>img_0000000.jpg</td>\n",
       "      <td>facture</td>\n",
       "      <td>59453</td>\n",
       "      <td>750</td>\n",
       "      <td>1061</td>\n",
       "      <td>['factur', 'logo', 'joanner', 'binet', 'couber...</td>\n",
       "      <td>55</td>\n",
       "      <td>factur logo joanner binet coubertin pari factu...</td>\n",
       "      <td>fr</td>\n",
       "      <td>['bill', 'logo', 'joanner', 'binet', 'couberti...</td>\n",
       "    </tr>\n",
       "    <tr>\n",
       "      <th>1</th>\n",
       "      <td>img_0000001.jpg</td>\n",
       "      <td>facture</td>\n",
       "      <td>55157</td>\n",
       "      <td>750</td>\n",
       "      <td>1061</td>\n",
       "      <td>['joanner', 'binet', 'coubertin', 'pari', 'fac...</td>\n",
       "      <td>53</td>\n",
       "      <td>joanner binet coubertin pari factur facturé ce...</td>\n",
       "      <td>fr</td>\n",
       "      <td>['joanner', 'binet', 'coubertine', 'bet', 'bil...</td>\n",
       "    </tr>\n",
       "    <tr>\n",
       "      <th>2</th>\n",
       "      <td>img_0000002.jpg</td>\n",
       "      <td>facture</td>\n",
       "      <td>32097</td>\n",
       "      <td>726</td>\n",
       "      <td>1024</td>\n",
       "      <td>['factur', 'entreprise', 'nom', 'société', 'ad...</td>\n",
       "      <td>28</td>\n",
       "      <td>factur entreprise nom société adresse postal a...</td>\n",
       "      <td>fr</td>\n",
       "      <td>['bill', 'enterprise', 'name', 'company', 'Add...</td>\n",
       "    </tr>\n",
       "    <tr>\n",
       "      <th>3</th>\n",
       "      <td>img_0000003.jpg</td>\n",
       "      <td>facture</td>\n",
       "      <td>63937</td>\n",
       "      <td>750</td>\n",
       "      <td>1061</td>\n",
       "      <td>['joanner', 'binet', 'coubertin', 'pari', 'fac...</td>\n",
       "      <td>53</td>\n",
       "      <td>joanner binet coubertin pari factur cendrillon...</td>\n",
       "      <td>fr</td>\n",
       "      <td>['joanner', 'binet', 'coubertine', 'bet', 'bil...</td>\n",
       "    </tr>\n",
       "    <tr>\n",
       "      <th>4</th>\n",
       "      <td>img_0000004.jpg</td>\n",
       "      <td>facture</td>\n",
       "      <td>79474</td>\n",
       "      <td>773</td>\n",
       "      <td>771</td>\n",
       "      <td>['payer', 'ligne', 'factur', 'sfideli', 'date'...</td>\n",
       "      <td>63</td>\n",
       "      <td>payer ligne factur sfideli date création date ...</td>\n",
       "      <td>fr</td>\n",
       "      <td>['pay', 'line', 'bill', 'sfideli', 'date', 'es...</td>\n",
       "    </tr>\n",
       "  </tbody>\n",
       "</table>\n",
       "</div>"
      ],
      "text/plain": [
       "          filename     type   size  width  height  \\\n",
       "0  img_0000000.jpg  facture  59453    750    1061   \n",
       "1  img_0000001.jpg  facture  55157    750    1061   \n",
       "2  img_0000002.jpg  facture  32097    726    1024   \n",
       "3  img_0000003.jpg  facture  63937    750    1061   \n",
       "4  img_0000004.jpg  facture  79474    773     771   \n",
       "\n",
       "                                          mots_doctr  nb_mots  \\\n",
       "0  ['factur', 'logo', 'joanner', 'binet', 'couber...       55   \n",
       "1  ['joanner', 'binet', 'coubertin', 'pari', 'fac...       53   \n",
       "2  ['factur', 'entreprise', 'nom', 'société', 'ad...       28   \n",
       "3  ['joanner', 'binet', 'coubertin', 'pari', 'fac...       53   \n",
       "4  ['payer', 'ligne', 'factur', 'sfideli', 'date'...       63   \n",
       "\n",
       "                                         mots_concat Langue  \\\n",
       "0  factur logo joanner binet coubertin pari factu...     fr   \n",
       "1  joanner binet coubertin pari factur facturé ce...     fr   \n",
       "2  factur entreprise nom société adresse postal a...     fr   \n",
       "3  joanner binet coubertin pari factur cendrillon...     fr   \n",
       "4  payer ligne factur sfideli date création date ...     fr   \n",
       "\n",
       "                                     mots_doctr_trad  \n",
       "0  ['bill', 'logo', 'joanner', 'binet', 'couberti...  \n",
       "1  ['joanner', 'binet', 'coubertine', 'bet', 'bil...  \n",
       "2  ['bill', 'enterprise', 'name', 'company', 'Add...  \n",
       "3  ['joanner', 'binet', 'coubertine', 'bet', 'bil...  \n",
       "4  ['pay', 'line', 'bill', 'sfideli', 'date', 'es...  "
      ]
     },
     "execution_count": 2,
     "metadata": {},
     "output_type": "execute_result"
    }
   ],
   "source": [
    "df.head()"
   ]
  },
  {
   "cell_type": "code",
   "execution_count": 3,
   "id": "fb661dee",
   "metadata": {},
   "outputs": [
    {
     "data": {
      "text/plain": [
       "(1134, 10)"
      ]
     },
     "execution_count": 3,
     "metadata": {},
     "output_type": "execute_result"
    }
   ],
   "source": [
    "df.shape"
   ]
  },
  {
   "cell_type": "code",
   "execution_count": 4,
   "id": "385e0b59",
   "metadata": {},
   "outputs": [
    {
     "name": "stderr",
     "output_type": "stream",
     "text": [
      "C:\\Users\\alexj\\AppData\\Local\\Temp\\ipykernel_17968\\1114243190.py:4: SettingWithCopyWarning: \n",
      "A value is trying to be set on a copy of a slice from a DataFrame\n",
      "\n",
      "See the caveats in the documentation: https://pandas.pydata.org/pandas-docs/stable/user_guide/indexing.html#returning-a-view-versus-a-copy\n",
      "  df['mots_doctr_trad'][i] = r2.sub(' ', str(df['mots_doctr_trad'][i]))\n",
      "C:\\Users\\alexj\\AppData\\Local\\Temp\\ipykernel_17968\\1114243190.py:5: SettingWithCopyWarning: \n",
      "A value is trying to be set on a copy of a slice from a DataFrame\n",
      "\n",
      "See the caveats in the documentation: https://pandas.pydata.org/pandas-docs/stable/user_guide/indexing.html#returning-a-view-versus-a-copy\n",
      "  df['mots_doctr_trad'][i] = df['mots_doctr_trad'][i].replace(\"   \", \" \").replace(\"  \", \" \").lower()\n"
     ]
    }
   ],
   "source": [
    "import re\n",
    "r2 = re.compile(r\"[^a-zA-Zéèàùôâêëäïöü]\")\n",
    "for i in range(df.shape[0]):\n",
    "    df['mots_doctr_trad'][i] = r2.sub(' ', str(df['mots_doctr_trad'][i]))\n",
    "    df['mots_doctr_trad'][i] = df['mots_doctr_trad'][i].replace(\"   \", \" \").replace(\"  \", \" \").lower()"
   ]
  },
  {
   "cell_type": "code",
   "execution_count": 5,
   "id": "c66de13f",
   "metadata": {},
   "outputs": [
    {
     "data": {
      "text/plain": [
       "'factur logo joanner binet coubertin pari factur cendrillon ayot rue nation pari envoye cendrillon ayot rue ferréol lle france factur date commande ance prix unit total tva total montant designation grand brun escargot manger petit marinière uniforme bleu facile jouer accordéon buncht condition modalit paiemer paiemer jour caisse epargne iban swift bic abcdfrp xxx merci '"
      ]
     },
     "execution_count": 5,
     "metadata": {},
     "output_type": "execute_result"
    }
   ],
   "source": [
    "df.head()\n",
    "df['mots_concat'][0]"
   ]
  },
  {
   "cell_type": "code",
   "execution_count": 6,
   "id": "01e90ce4",
   "metadata": {},
   "outputs": [
    {
     "data": {
      "text/plain": [
       "' bill logo joanner binet coubertine bet bill butterfly ayot street nation bet send butterfly ayot street ferreol it s all right  france bill date command benance prices unit total tva total amount designation large brown snail eat small marine uniform blue easy play accordion buncht condition modality paying paying day body saving iban swift bic abcdfrp xxx thank you '"
      ]
     },
     "execution_count": 6,
     "metadata": {},
     "output_type": "execute_result"
    }
   ],
   "source": [
    "df['mots_doctr_trad'][0]"
   ]
  },
  {
   "cell_type": "markdown",
   "id": "d8fefaac",
   "metadata": {},
   "source": [
    "On supprime les colonnes qui ne seront pas utiles dans cette analyse."
   ]
  },
  {
   "cell_type": "code",
   "execution_count": 7,
   "id": "49a101d4",
   "metadata": {},
   "outputs": [],
   "source": [
    "df = df.drop(['mots_doctr', 'nb_mots', 'Langue'], axis = 1)"
   ]
  },
  {
   "cell_type": "code",
   "execution_count": 8,
   "id": "55bb9149",
   "metadata": {},
   "outputs": [
    {
     "data": {
      "text/html": [
       "<div>\n",
       "<style scoped>\n",
       "    .dataframe tbody tr th:only-of-type {\n",
       "        vertical-align: middle;\n",
       "    }\n",
       "\n",
       "    .dataframe tbody tr th {\n",
       "        vertical-align: top;\n",
       "    }\n",
       "\n",
       "    .dataframe thead th {\n",
       "        text-align: right;\n",
       "    }\n",
       "</style>\n",
       "<table border=\"1\" class=\"dataframe\">\n",
       "  <thead>\n",
       "    <tr style=\"text-align: right;\">\n",
       "      <th></th>\n",
       "      <th>filename</th>\n",
       "      <th>type</th>\n",
       "      <th>size</th>\n",
       "      <th>width</th>\n",
       "      <th>height</th>\n",
       "      <th>mots_concat</th>\n",
       "      <th>mots_doctr_trad</th>\n",
       "    </tr>\n",
       "  </thead>\n",
       "  <tbody>\n",
       "    <tr>\n",
       "      <th>0</th>\n",
       "      <td>img_0000000.jpg</td>\n",
       "      <td>facture</td>\n",
       "      <td>59453</td>\n",
       "      <td>750</td>\n",
       "      <td>1061</td>\n",
       "      <td>factur logo joanner binet coubertin pari factu...</td>\n",
       "      <td>bill logo joanner binet coubertine bet bill b...</td>\n",
       "    </tr>\n",
       "    <tr>\n",
       "      <th>1</th>\n",
       "      <td>img_0000001.jpg</td>\n",
       "      <td>facture</td>\n",
       "      <td>55157</td>\n",
       "      <td>750</td>\n",
       "      <td>1061</td>\n",
       "      <td>joanner binet coubertin pari factur facturé ce...</td>\n",
       "      <td>joanner binet coubertine bet bill billed butt...</td>\n",
       "    </tr>\n",
       "    <tr>\n",
       "      <th>2</th>\n",
       "      <td>img_0000002.jpg</td>\n",
       "      <td>facture</td>\n",
       "      <td>32097</td>\n",
       "      <td>726</td>\n",
       "      <td>1024</td>\n",
       "      <td>factur entreprise nom société adresse postal a...</td>\n",
       "      <td>bill enterprise name company address postal a...</td>\n",
       "    </tr>\n",
       "    <tr>\n",
       "      <th>3</th>\n",
       "      <td>img_0000003.jpg</td>\n",
       "      <td>facture</td>\n",
       "      <td>63937</td>\n",
       "      <td>750</td>\n",
       "      <td>1061</td>\n",
       "      <td>joanner binet coubertin pari factur cendrillon...</td>\n",
       "      <td>joanner binet coubertine bet bill butterfly a...</td>\n",
       "    </tr>\n",
       "    <tr>\n",
       "      <th>4</th>\n",
       "      <td>img_0000004.jpg</td>\n",
       "      <td>facture</td>\n",
       "      <td>79474</td>\n",
       "      <td>773</td>\n",
       "      <td>771</td>\n",
       "      <td>payer ligne factur sfideli date création date ...</td>\n",
       "      <td>pay line bill sfideli date establishment date...</td>\n",
       "    </tr>\n",
       "  </tbody>\n",
       "</table>\n",
       "</div>"
      ],
      "text/plain": [
       "          filename     type   size  width  height  \\\n",
       "0  img_0000000.jpg  facture  59453    750    1061   \n",
       "1  img_0000001.jpg  facture  55157    750    1061   \n",
       "2  img_0000002.jpg  facture  32097    726    1024   \n",
       "3  img_0000003.jpg  facture  63937    750    1061   \n",
       "4  img_0000004.jpg  facture  79474    773     771   \n",
       "\n",
       "                                         mots_concat  \\\n",
       "0  factur logo joanner binet coubertin pari factu...   \n",
       "1  joanner binet coubertin pari factur facturé ce...   \n",
       "2  factur entreprise nom société adresse postal a...   \n",
       "3  joanner binet coubertin pari factur cendrillon...   \n",
       "4  payer ligne factur sfideli date création date ...   \n",
       "\n",
       "                                     mots_doctr_trad  \n",
       "0   bill logo joanner binet coubertine bet bill b...  \n",
       "1   joanner binet coubertine bet bill billed butt...  \n",
       "2   bill enterprise name company address postal a...  \n",
       "3   joanner binet coubertine bet bill butterfly a...  \n",
       "4   pay line bill sfideli date establishment date...  "
      ]
     },
     "execution_count": 8,
     "metadata": {},
     "output_type": "execute_result"
    }
   ],
   "source": [
    "df.head()"
   ]
  },
  {
   "cell_type": "markdown",
   "id": "84127ffe",
   "metadata": {},
   "source": [
    "On recréé une colonne mots_concat à partir de la traduction."
   ]
  },
  {
   "cell_type": "markdown",
   "id": "8d4e7f12",
   "metadata": {},
   "source": [
    "Enfin, en se basant sur l'interprétation des résultats de l'itération précédente, on va rassembler les catégories \"rrc.cvc\", \"scientific_publication\" et \"scientific_report\", très similaires et difficiles à dissocier."
   ]
  },
  {
   "cell_type": "code",
   "execution_count": 9,
   "id": "d5da7eb9",
   "metadata": {},
   "outputs": [],
   "source": [
    "df['type'] = df['type'].replace(['rrc.cvc', 'scientific_publication', 'scientific_report'], ['scientific_doc', 'scientific_doc', 'scientific_doc'])"
   ]
  },
  {
   "cell_type": "code",
   "execution_count": 10,
   "id": "e4b9f3a5",
   "metadata": {},
   "outputs": [
    {
     "data": {
      "text/plain": [
       "scientific_doc     351\n",
       "paye               145\n",
       "id_pieces           82\n",
       "carte postale       70\n",
       "facture             66\n",
       "passeport           43\n",
       "handwritten         35\n",
       "news_article        32\n",
       "memo                31\n",
       "questionnaire       31\n",
       "resume              30\n",
       "letter              29\n",
       "budget              25\n",
       "presentation        25\n",
       "specification       24\n",
       "invoice             24\n",
       "advertisement       23\n",
       "justif_domicile     23\n",
       "email               23\n",
       "form                22\n",
       "Name: type, dtype: int64"
      ]
     },
     "execution_count": 10,
     "metadata": {},
     "output_type": "execute_result"
    }
   ],
   "source": [
    "df['type'].value_counts()"
   ]
  },
  {
   "cell_type": "markdown",
   "id": "4a250afe",
   "metadata": {},
   "source": [
    "## Première itération avec un Sentiment analysis"
   ]
  },
  {
   "cell_type": "markdown",
   "id": "66c4f80f",
   "metadata": {},
   "source": [
    "On cherche dans un premier temps à identifier si l'image est un CV (1), ou non (0)."
   ]
  },
  {
   "cell_type": "code",
   "execution_count": 11,
   "id": "57c05f31",
   "metadata": {},
   "outputs": [],
   "source": [
    "dftype = df['type']\n",
    "df2 = pd.get_dummies(df, columns = ['type'])\n",
    "df = pd.concat([dftype, df2], axis = 1)\n",
    "\n"
   ]
  },
  {
   "cell_type": "code",
   "execution_count": 12,
   "id": "7c0adf32",
   "metadata": {},
   "outputs": [
    {
     "data": {
      "text/html": [
       "<div>\n",
       "<style scoped>\n",
       "    .dataframe tbody tr th:only-of-type {\n",
       "        vertical-align: middle;\n",
       "    }\n",
       "\n",
       "    .dataframe tbody tr th {\n",
       "        vertical-align: top;\n",
       "    }\n",
       "\n",
       "    .dataframe thead th {\n",
       "        text-align: right;\n",
       "    }\n",
       "</style>\n",
       "<table border=\"1\" class=\"dataframe\">\n",
       "  <thead>\n",
       "    <tr style=\"text-align: right;\">\n",
       "      <th></th>\n",
       "      <th>type</th>\n",
       "      <th>filename</th>\n",
       "      <th>size</th>\n",
       "      <th>width</th>\n",
       "      <th>height</th>\n",
       "      <th>mots_concat</th>\n",
       "      <th>mots_doctr_trad</th>\n",
       "      <th>type_advertisement</th>\n",
       "      <th>type_budget</th>\n",
       "      <th>type_carte postale</th>\n",
       "      <th>...</th>\n",
       "      <th>type_letter</th>\n",
       "      <th>type_memo</th>\n",
       "      <th>type_news_article</th>\n",
       "      <th>type_passeport</th>\n",
       "      <th>type_paye</th>\n",
       "      <th>type_presentation</th>\n",
       "      <th>type_questionnaire</th>\n",
       "      <th>type_resume</th>\n",
       "      <th>type_scientific_doc</th>\n",
       "      <th>type_specification</th>\n",
       "    </tr>\n",
       "  </thead>\n",
       "  <tbody>\n",
       "    <tr>\n",
       "      <th>0</th>\n",
       "      <td>facture</td>\n",
       "      <td>img_0000000.jpg</td>\n",
       "      <td>59453</td>\n",
       "      <td>750</td>\n",
       "      <td>1061</td>\n",
       "      <td>factur logo joanner binet coubertin pari factu...</td>\n",
       "      <td>bill logo joanner binet coubertine bet bill b...</td>\n",
       "      <td>0</td>\n",
       "      <td>0</td>\n",
       "      <td>0</td>\n",
       "      <td>...</td>\n",
       "      <td>0</td>\n",
       "      <td>0</td>\n",
       "      <td>0</td>\n",
       "      <td>0</td>\n",
       "      <td>0</td>\n",
       "      <td>0</td>\n",
       "      <td>0</td>\n",
       "      <td>0</td>\n",
       "      <td>0</td>\n",
       "      <td>0</td>\n",
       "    </tr>\n",
       "    <tr>\n",
       "      <th>1</th>\n",
       "      <td>facture</td>\n",
       "      <td>img_0000001.jpg</td>\n",
       "      <td>55157</td>\n",
       "      <td>750</td>\n",
       "      <td>1061</td>\n",
       "      <td>joanner binet coubertin pari factur facturé ce...</td>\n",
       "      <td>joanner binet coubertine bet bill billed butt...</td>\n",
       "      <td>0</td>\n",
       "      <td>0</td>\n",
       "      <td>0</td>\n",
       "      <td>...</td>\n",
       "      <td>0</td>\n",
       "      <td>0</td>\n",
       "      <td>0</td>\n",
       "      <td>0</td>\n",
       "      <td>0</td>\n",
       "      <td>0</td>\n",
       "      <td>0</td>\n",
       "      <td>0</td>\n",
       "      <td>0</td>\n",
       "      <td>0</td>\n",
       "    </tr>\n",
       "    <tr>\n",
       "      <th>2</th>\n",
       "      <td>facture</td>\n",
       "      <td>img_0000002.jpg</td>\n",
       "      <td>32097</td>\n",
       "      <td>726</td>\n",
       "      <td>1024</td>\n",
       "      <td>factur entreprise nom société adresse postal a...</td>\n",
       "      <td>bill enterprise name company address postal a...</td>\n",
       "      <td>0</td>\n",
       "      <td>0</td>\n",
       "      <td>0</td>\n",
       "      <td>...</td>\n",
       "      <td>0</td>\n",
       "      <td>0</td>\n",
       "      <td>0</td>\n",
       "      <td>0</td>\n",
       "      <td>0</td>\n",
       "      <td>0</td>\n",
       "      <td>0</td>\n",
       "      <td>0</td>\n",
       "      <td>0</td>\n",
       "      <td>0</td>\n",
       "    </tr>\n",
       "    <tr>\n",
       "      <th>3</th>\n",
       "      <td>facture</td>\n",
       "      <td>img_0000003.jpg</td>\n",
       "      <td>63937</td>\n",
       "      <td>750</td>\n",
       "      <td>1061</td>\n",
       "      <td>joanner binet coubertin pari factur cendrillon...</td>\n",
       "      <td>joanner binet coubertine bet bill butterfly a...</td>\n",
       "      <td>0</td>\n",
       "      <td>0</td>\n",
       "      <td>0</td>\n",
       "      <td>...</td>\n",
       "      <td>0</td>\n",
       "      <td>0</td>\n",
       "      <td>0</td>\n",
       "      <td>0</td>\n",
       "      <td>0</td>\n",
       "      <td>0</td>\n",
       "      <td>0</td>\n",
       "      <td>0</td>\n",
       "      <td>0</td>\n",
       "      <td>0</td>\n",
       "    </tr>\n",
       "    <tr>\n",
       "      <th>4</th>\n",
       "      <td>facture</td>\n",
       "      <td>img_0000004.jpg</td>\n",
       "      <td>79474</td>\n",
       "      <td>773</td>\n",
       "      <td>771</td>\n",
       "      <td>payer ligne factur sfideli date création date ...</td>\n",
       "      <td>pay line bill sfideli date establishment date...</td>\n",
       "      <td>0</td>\n",
       "      <td>0</td>\n",
       "      <td>0</td>\n",
       "      <td>...</td>\n",
       "      <td>0</td>\n",
       "      <td>0</td>\n",
       "      <td>0</td>\n",
       "      <td>0</td>\n",
       "      <td>0</td>\n",
       "      <td>0</td>\n",
       "      <td>0</td>\n",
       "      <td>0</td>\n",
       "      <td>0</td>\n",
       "      <td>0</td>\n",
       "    </tr>\n",
       "  </tbody>\n",
       "</table>\n",
       "<p>5 rows × 27 columns</p>\n",
       "</div>"
      ],
      "text/plain": [
       "      type         filename   size  width  height  \\\n",
       "0  facture  img_0000000.jpg  59453    750    1061   \n",
       "1  facture  img_0000001.jpg  55157    750    1061   \n",
       "2  facture  img_0000002.jpg  32097    726    1024   \n",
       "3  facture  img_0000003.jpg  63937    750    1061   \n",
       "4  facture  img_0000004.jpg  79474    773     771   \n",
       "\n",
       "                                         mots_concat  \\\n",
       "0  factur logo joanner binet coubertin pari factu...   \n",
       "1  joanner binet coubertin pari factur facturé ce...   \n",
       "2  factur entreprise nom société adresse postal a...   \n",
       "3  joanner binet coubertin pari factur cendrillon...   \n",
       "4  payer ligne factur sfideli date création date ...   \n",
       "\n",
       "                                     mots_doctr_trad  type_advertisement  \\\n",
       "0   bill logo joanner binet coubertine bet bill b...                   0   \n",
       "1   joanner binet coubertine bet bill billed butt...                   0   \n",
       "2   bill enterprise name company address postal a...                   0   \n",
       "3   joanner binet coubertine bet bill butterfly a...                   0   \n",
       "4   pay line bill sfideli date establishment date...                   0   \n",
       "\n",
       "   type_budget  type_carte postale  ...  type_letter  type_memo  \\\n",
       "0            0                   0  ...            0          0   \n",
       "1            0                   0  ...            0          0   \n",
       "2            0                   0  ...            0          0   \n",
       "3            0                   0  ...            0          0   \n",
       "4            0                   0  ...            0          0   \n",
       "\n",
       "   type_news_article  type_passeport  type_paye  type_presentation  \\\n",
       "0                  0               0          0                  0   \n",
       "1                  0               0          0                  0   \n",
       "2                  0               0          0                  0   \n",
       "3                  0               0          0                  0   \n",
       "4                  0               0          0                  0   \n",
       "\n",
       "   type_questionnaire  type_resume  type_scientific_doc  type_specification  \n",
       "0                   0            0                    0                   0  \n",
       "1                   0            0                    0                   0  \n",
       "2                   0            0                    0                   0  \n",
       "3                   0            0                    0                   0  \n",
       "4                   0            0                    0                   0  \n",
       "\n",
       "[5 rows x 27 columns]"
      ]
     },
     "execution_count": 12,
     "metadata": {},
     "output_type": "execute_result"
    }
   ],
   "source": [
    "df.head()"
   ]
  },
  {
   "cell_type": "code",
   "execution_count": 13,
   "id": "15610121",
   "metadata": {},
   "outputs": [
    {
     "data": {
      "text/plain": [
       "0"
      ]
     },
     "execution_count": 13,
     "metadata": {},
     "output_type": "execute_result"
    }
   ],
   "source": [
    "df = df.fillna(' ')\n",
    "df.isna().any().sum()"
   ]
  },
  {
   "cell_type": "code",
   "execution_count": 14,
   "id": "d501d15f",
   "metadata": {},
   "outputs": [
    {
     "data": {
      "text/html": [
       "<div>\n",
       "<style scoped>\n",
       "    .dataframe tbody tr th:only-of-type {\n",
       "        vertical-align: middle;\n",
       "    }\n",
       "\n",
       "    .dataframe tbody tr th {\n",
       "        vertical-align: top;\n",
       "    }\n",
       "\n",
       "    .dataframe thead th {\n",
       "        text-align: right;\n",
       "    }\n",
       "</style>\n",
       "<table border=\"1\" class=\"dataframe\">\n",
       "  <thead>\n",
       "    <tr style=\"text-align: right;\">\n",
       "      <th></th>\n",
       "      <th>type</th>\n",
       "      <th>filename</th>\n",
       "      <th>size</th>\n",
       "      <th>width</th>\n",
       "      <th>height</th>\n",
       "      <th>mots_concat</th>\n",
       "      <th>mots_doctr_trad</th>\n",
       "      <th>type_advertisement</th>\n",
       "      <th>type_budget</th>\n",
       "      <th>type_carte postale</th>\n",
       "      <th>...</th>\n",
       "      <th>type_letter</th>\n",
       "      <th>type_memo</th>\n",
       "      <th>type_news_article</th>\n",
       "      <th>type_passeport</th>\n",
       "      <th>type_paye</th>\n",
       "      <th>type_presentation</th>\n",
       "      <th>type_questionnaire</th>\n",
       "      <th>type_resume</th>\n",
       "      <th>type_scientific_doc</th>\n",
       "      <th>type_specification</th>\n",
       "    </tr>\n",
       "  </thead>\n",
       "  <tbody>\n",
       "    <tr>\n",
       "      <th>0</th>\n",
       "      <td>facture</td>\n",
       "      <td>img_0000000.jpg</td>\n",
       "      <td>59453</td>\n",
       "      <td>750</td>\n",
       "      <td>1061</td>\n",
       "      <td>factur logo joanner binet coubertin pari factu...</td>\n",
       "      <td>bill logo joanner binet coubertine bet bill b...</td>\n",
       "      <td>0</td>\n",
       "      <td>0</td>\n",
       "      <td>0</td>\n",
       "      <td>...</td>\n",
       "      <td>0</td>\n",
       "      <td>0</td>\n",
       "      <td>0</td>\n",
       "      <td>0</td>\n",
       "      <td>0</td>\n",
       "      <td>0</td>\n",
       "      <td>0</td>\n",
       "      <td>0</td>\n",
       "      <td>0</td>\n",
       "      <td>0</td>\n",
       "    </tr>\n",
       "    <tr>\n",
       "      <th>1</th>\n",
       "      <td>facture</td>\n",
       "      <td>img_0000001.jpg</td>\n",
       "      <td>55157</td>\n",
       "      <td>750</td>\n",
       "      <td>1061</td>\n",
       "      <td>joanner binet coubertin pari factur facturé ce...</td>\n",
       "      <td>joanner binet coubertine bet bill billed butt...</td>\n",
       "      <td>0</td>\n",
       "      <td>0</td>\n",
       "      <td>0</td>\n",
       "      <td>...</td>\n",
       "      <td>0</td>\n",
       "      <td>0</td>\n",
       "      <td>0</td>\n",
       "      <td>0</td>\n",
       "      <td>0</td>\n",
       "      <td>0</td>\n",
       "      <td>0</td>\n",
       "      <td>0</td>\n",
       "      <td>0</td>\n",
       "      <td>0</td>\n",
       "    </tr>\n",
       "    <tr>\n",
       "      <th>2</th>\n",
       "      <td>facture</td>\n",
       "      <td>img_0000002.jpg</td>\n",
       "      <td>32097</td>\n",
       "      <td>726</td>\n",
       "      <td>1024</td>\n",
       "      <td>factur entreprise nom société adresse postal a...</td>\n",
       "      <td>bill enterprise name company address postal a...</td>\n",
       "      <td>0</td>\n",
       "      <td>0</td>\n",
       "      <td>0</td>\n",
       "      <td>...</td>\n",
       "      <td>0</td>\n",
       "      <td>0</td>\n",
       "      <td>0</td>\n",
       "      <td>0</td>\n",
       "      <td>0</td>\n",
       "      <td>0</td>\n",
       "      <td>0</td>\n",
       "      <td>0</td>\n",
       "      <td>0</td>\n",
       "      <td>0</td>\n",
       "    </tr>\n",
       "    <tr>\n",
       "      <th>3</th>\n",
       "      <td>facture</td>\n",
       "      <td>img_0000003.jpg</td>\n",
       "      <td>63937</td>\n",
       "      <td>750</td>\n",
       "      <td>1061</td>\n",
       "      <td>joanner binet coubertin pari factur cendrillon...</td>\n",
       "      <td>joanner binet coubertine bet bill butterfly a...</td>\n",
       "      <td>0</td>\n",
       "      <td>0</td>\n",
       "      <td>0</td>\n",
       "      <td>...</td>\n",
       "      <td>0</td>\n",
       "      <td>0</td>\n",
       "      <td>0</td>\n",
       "      <td>0</td>\n",
       "      <td>0</td>\n",
       "      <td>0</td>\n",
       "      <td>0</td>\n",
       "      <td>0</td>\n",
       "      <td>0</td>\n",
       "      <td>0</td>\n",
       "    </tr>\n",
       "    <tr>\n",
       "      <th>4</th>\n",
       "      <td>facture</td>\n",
       "      <td>img_0000004.jpg</td>\n",
       "      <td>79474</td>\n",
       "      <td>773</td>\n",
       "      <td>771</td>\n",
       "      <td>payer ligne factur sfideli date création date ...</td>\n",
       "      <td>pay line bill sfideli date establishment date...</td>\n",
       "      <td>0</td>\n",
       "      <td>0</td>\n",
       "      <td>0</td>\n",
       "      <td>...</td>\n",
       "      <td>0</td>\n",
       "      <td>0</td>\n",
       "      <td>0</td>\n",
       "      <td>0</td>\n",
       "      <td>0</td>\n",
       "      <td>0</td>\n",
       "      <td>0</td>\n",
       "      <td>0</td>\n",
       "      <td>0</td>\n",
       "      <td>0</td>\n",
       "    </tr>\n",
       "  </tbody>\n",
       "</table>\n",
       "<p>5 rows × 27 columns</p>\n",
       "</div>"
      ],
      "text/plain": [
       "      type         filename   size  width  height  \\\n",
       "0  facture  img_0000000.jpg  59453    750    1061   \n",
       "1  facture  img_0000001.jpg  55157    750    1061   \n",
       "2  facture  img_0000002.jpg  32097    726    1024   \n",
       "3  facture  img_0000003.jpg  63937    750    1061   \n",
       "4  facture  img_0000004.jpg  79474    773     771   \n",
       "\n",
       "                                         mots_concat  \\\n",
       "0  factur logo joanner binet coubertin pari factu...   \n",
       "1  joanner binet coubertin pari factur facturé ce...   \n",
       "2  factur entreprise nom société adresse postal a...   \n",
       "3  joanner binet coubertin pari factur cendrillon...   \n",
       "4  payer ligne factur sfideli date création date ...   \n",
       "\n",
       "                                     mots_doctr_trad  type_advertisement  \\\n",
       "0   bill logo joanner binet coubertine bet bill b...                   0   \n",
       "1   joanner binet coubertine bet bill billed butt...                   0   \n",
       "2   bill enterprise name company address postal a...                   0   \n",
       "3   joanner binet coubertine bet bill butterfly a...                   0   \n",
       "4   pay line bill sfideli date establishment date...                   0   \n",
       "\n",
       "   type_budget  type_carte postale  ...  type_letter  type_memo  \\\n",
       "0            0                   0  ...            0          0   \n",
       "1            0                   0  ...            0          0   \n",
       "2            0                   0  ...            0          0   \n",
       "3            0                   0  ...            0          0   \n",
       "4            0                   0  ...            0          0   \n",
       "\n",
       "   type_news_article  type_passeport  type_paye  type_presentation  \\\n",
       "0                  0               0          0                  0   \n",
       "1                  0               0          0                  0   \n",
       "2                  0               0          0                  0   \n",
       "3                  0               0          0                  0   \n",
       "4                  0               0          0                  0   \n",
       "\n",
       "   type_questionnaire  type_resume  type_scientific_doc  type_specification  \n",
       "0                   0            0                    0                   0  \n",
       "1                   0            0                    0                   0  \n",
       "2                   0            0                    0                   0  \n",
       "3                   0            0                    0                   0  \n",
       "4                   0            0                    0                   0  \n",
       "\n",
       "[5 rows x 27 columns]"
      ]
     },
     "execution_count": 14,
     "metadata": {},
     "output_type": "execute_result"
    }
   ],
   "source": [
    "df.head()"
   ]
  },
  {
   "cell_type": "markdown",
   "id": "de99b1bb",
   "metadata": {},
   "source": [
    "On divise notre jeu de données en un ensemble d'entraînement et un ensemble de test"
   ]
  },
  {
   "cell_type": "code",
   "execution_count": 15,
   "id": "412c5a62",
   "metadata": {},
   "outputs": [],
   "source": [
    "from sklearn.model_selection import train_test_split\n",
    "X = df['mots_doctr_trad']\n",
    "y = df['type_scientific_doc']\n",
    "\n",
    "X_train, X_test, y_train, y_test = train_test_split(X,y,test_size = 0.2, random_state = 42)"
   ]
  },
  {
   "cell_type": "markdown",
   "id": "11bdb3f7",
   "metadata": {},
   "source": [
    "On utilise le Gradient Boosting Tree, en utilisant un objet vectorisateur calibré pour considérer également les groupes de 2 et 3 mots, dans la limite des 500 mots/groups de mots les plus fréquents. "
   ]
  },
  {
   "cell_type": "markdown",
   "id": "a11689b2",
   "metadata": {},
   "source": [
    "Le modèle tourne vite, donc on se permet d'augmenter le nombre d'estimateurs du Gradient Boosting afin d'améliorer les résultats."
   ]
  },
  {
   "cell_type": "code",
   "execution_count": 16,
   "id": "b17499d9",
   "metadata": {},
   "outputs": [],
   "source": [
    "from sklearn.feature_extraction.text import CountVectorizer\n",
    "from sklearn.ensemble import GradientBoostingClassifier\n",
    "\n",
    "vectorizer = CountVectorizer(ngram_range = (1,3), max_features = 500)\n",
    "X_train = vectorizer.fit_transform(X_train)\n",
    "X_test = vectorizer.transform(X_test).todense()"
   ]
  },
  {
   "cell_type": "code",
   "execution_count": 17,
   "id": "3303e407",
   "metadata": {},
   "outputs": [
    {
     "name": "stderr",
     "output_type": "stream",
     "text": [
      "C:\\Users\\alexj\\Documents\\Anaconda\\lib\\site-packages\\sklearn\\utils\\validation.py:593: FutureWarning: np.matrix usage is deprecated in 1.0 and will raise a TypeError in 1.2. Please convert to a numpy array with np.asarray. For more information see: https://numpy.org/doc/stable/reference/generated/numpy.matrix.html\n",
      "  warnings.warn(\n"
     ]
    }
   ],
   "source": [
    "clf = GradientBoostingClassifier(n_estimators = 2000, random_state = 0)\n",
    "clf.fit(X_train, y_train)\n",
    "\n",
    "y_pred = clf.predict(X_test)"
   ]
  },
  {
   "cell_type": "code",
   "execution_count": 18,
   "id": "b3dcf4a6",
   "metadata": {},
   "outputs": [
    {
     "name": "stdout",
     "output_type": "stream",
     "text": [
      "                precision    recall  f1-score   support\n",
      "\n",
      "         autre       0.91      0.92      0.92       160\n",
      "scientific_doc       0.80      0.79      0.80        67\n",
      "\n",
      "      accuracy                           0.88       227\n",
      "     macro avg       0.86      0.85      0.86       227\n",
      "  weighted avg       0.88      0.88      0.88       227\n",
      "\n"
     ]
    },
    {
     "data": {
      "text/html": [
       "<div>\n",
       "<style scoped>\n",
       "    .dataframe tbody tr th:only-of-type {\n",
       "        vertical-align: middle;\n",
       "    }\n",
       "\n",
       "    .dataframe tbody tr th {\n",
       "        vertical-align: top;\n",
       "    }\n",
       "\n",
       "    .dataframe thead th {\n",
       "        text-align: right;\n",
       "    }\n",
       "</style>\n",
       "<table border=\"1\" class=\"dataframe\">\n",
       "  <thead>\n",
       "    <tr style=\"text-align: right;\">\n",
       "      <th>Classe prédite</th>\n",
       "      <th>autre</th>\n",
       "      <th>scientific_doc</th>\n",
       "    </tr>\n",
       "    <tr>\n",
       "      <th>Classe réelle</th>\n",
       "      <th></th>\n",
       "      <th></th>\n",
       "    </tr>\n",
       "  </thead>\n",
       "  <tbody>\n",
       "    <tr>\n",
       "      <th>autre</th>\n",
       "      <td>147</td>\n",
       "      <td>13</td>\n",
       "    </tr>\n",
       "    <tr>\n",
       "      <th>scientific_doc</th>\n",
       "      <td>14</td>\n",
       "      <td>53</td>\n",
       "    </tr>\n",
       "  </tbody>\n",
       "</table>\n",
       "</div>"
      ],
      "text/plain": [
       "Classe prédite  autre  scientific_doc\n",
       "Classe réelle                        \n",
       "autre             147              13\n",
       "scientific_doc     14              53"
      ]
     },
     "execution_count": 18,
     "metadata": {},
     "output_type": "execute_result"
    }
   ],
   "source": [
    "from sklearn.metrics import classification_report\n",
    "\n",
    "print(classification_report(y_test, y_pred, target_names = ['autre', 'scientific_doc']))\n",
    "\n",
    "confusion_matrix = pd.crosstab(y_test, y_pred, rownames = ['Classe réelle'], colnames = ['Classe prédite']).rename(columns={0: \"autre\",1: \"scientific_doc\"}).rename(index={0: \"autre\", 1: \"scientific_doc\"})\n",
    "confusion_matrix"
   ]
  },
  {
   "cell_type": "markdown",
   "id": "32abbc75",
   "metadata": {},
   "source": [
    "On voit que le taux de recall de la classe 1 est assez médiocre. Une explication plausible est le déséquilibre de notre dataset : on cherche à reconnaitre 49 CV au milieu de 322 documents.\n",
    "On va ajouter un RandomOverSampler pour équilibrer ce dataset."
   ]
  },
  {
   "cell_type": "code",
   "execution_count": 19,
   "id": "6ae9a6cb",
   "metadata": {},
   "outputs": [],
   "source": [
    "# !pip install imblearn"
   ]
  },
  {
   "cell_type": "code",
   "execution_count": 20,
   "id": "0397fb35",
   "metadata": {},
   "outputs": [],
   "source": [
    "from imblearn import over_sampling"
   ]
  },
  {
   "cell_type": "code",
   "execution_count": 21,
   "id": "b55773ee",
   "metadata": {},
   "outputs": [
    {
     "name": "stderr",
     "output_type": "stream",
     "text": [
      "C:\\Users\\alexj\\Documents\\Anaconda\\lib\\site-packages\\sklearn\\utils\\validation.py:593: FutureWarning: np.matrix usage is deprecated in 1.0 and will raise a TypeError in 1.2. Please convert to a numpy array with np.asarray. For more information see: https://numpy.org/doc/stable/reference/generated/numpy.matrix.html\n",
      "  warnings.warn(\n"
     ]
    }
   ],
   "source": [
    "ro = over_sampling.RandomOverSampler()\n",
    "X_ro, y_ro = ro.fit_resample(X_train, y_train)\n",
    "clf.fit(X_ro, y_ro)\n",
    "y_pred_ro = clf.predict(X_test)"
   ]
  },
  {
   "cell_type": "code",
   "execution_count": 22,
   "id": "d177eecc",
   "metadata": {},
   "outputs": [
    {
     "name": "stdout",
     "output_type": "stream",
     "text": [
      "                precision    recall  f1-score   support\n",
      "\n",
      "         autre       0.92      0.92      0.92       160\n",
      "scientific_doc       0.81      0.81      0.81        67\n",
      "\n",
      "      accuracy                           0.89       227\n",
      "     macro avg       0.86      0.86      0.86       227\n",
      "  weighted avg       0.89      0.89      0.89       227\n",
      "\n"
     ]
    },
    {
     "data": {
      "text/html": [
       "<div>\n",
       "<style scoped>\n",
       "    .dataframe tbody tr th:only-of-type {\n",
       "        vertical-align: middle;\n",
       "    }\n",
       "\n",
       "    .dataframe tbody tr th {\n",
       "        vertical-align: top;\n",
       "    }\n",
       "\n",
       "    .dataframe thead th {\n",
       "        text-align: right;\n",
       "    }\n",
       "</style>\n",
       "<table border=\"1\" class=\"dataframe\">\n",
       "  <thead>\n",
       "    <tr style=\"text-align: right;\">\n",
       "      <th>Classe prédite</th>\n",
       "      <th>autre</th>\n",
       "      <th>scientific_doc</th>\n",
       "    </tr>\n",
       "    <tr>\n",
       "      <th>Classe réelle</th>\n",
       "      <th></th>\n",
       "      <th></th>\n",
       "    </tr>\n",
       "  </thead>\n",
       "  <tbody>\n",
       "    <tr>\n",
       "      <th>autre</th>\n",
       "      <td>147</td>\n",
       "      <td>13</td>\n",
       "    </tr>\n",
       "    <tr>\n",
       "      <th>scientific_doc</th>\n",
       "      <td>13</td>\n",
       "      <td>54</td>\n",
       "    </tr>\n",
       "  </tbody>\n",
       "</table>\n",
       "</div>"
      ],
      "text/plain": [
       "Classe prédite  autre  scientific_doc\n",
       "Classe réelle                        \n",
       "autre             147              13\n",
       "scientific_doc     13              54"
      ]
     },
     "execution_count": 22,
     "metadata": {},
     "output_type": "execute_result"
    }
   ],
   "source": [
    "print(classification_report(y_test, y_pred_ro, target_names = ['autre', 'scientific_doc']))\n",
    "\n",
    "confusion_matrix = pd.crosstab(y_test, y_pred_ro, rownames = ['Classe réelle'], colnames = ['Classe prédite']).rename(columns={0: \"autre\",1: \"scientific_doc\"}).rename(index={0: \"autre\", 1: \"scientific_doc\"})\n",
    "confusion_matrix"
   ]
  },
  {
   "cell_type": "markdown",
   "id": "4e0b3201",
   "metadata": {},
   "source": [
    "Les résultats sont légèrement meilleurs, mais restent largement perfectibles."
   ]
  },
  {
   "cell_type": "markdown",
   "id": "31d5d11a",
   "metadata": {},
   "source": [
    "On effectue la même démarche mais pour détecter le type facture."
   ]
  },
  {
   "cell_type": "code",
   "execution_count": 23,
   "id": "a1a1e7ff",
   "metadata": {},
   "outputs": [],
   "source": [
    "X = df.mots_doctr_trad\n",
    "y = df['type_facture']\n",
    "\n",
    "X_train, X_test, y_train, y_test = train_test_split(X,y,test_size = 0.2, random_state = 42)"
   ]
  },
  {
   "cell_type": "code",
   "execution_count": 24,
   "id": "a1654029",
   "metadata": {},
   "outputs": [],
   "source": [
    "from sklearn.feature_extraction.text import CountVectorizer\n",
    "from sklearn.ensemble import GradientBoostingClassifier\n",
    "\n",
    "vectorizer = CountVectorizer(ngram_range = (1,3), max_features = 500)\n",
    "X_train = vectorizer.fit_transform(X_train)\n",
    "X_test = vectorizer.transform(X_test).todense()"
   ]
  },
  {
   "cell_type": "code",
   "execution_count": 25,
   "id": "f7e2ac33",
   "metadata": {},
   "outputs": [
    {
     "name": "stderr",
     "output_type": "stream",
     "text": [
      "C:\\Users\\alexj\\Documents\\Anaconda\\lib\\site-packages\\sklearn\\utils\\validation.py:593: FutureWarning: np.matrix usage is deprecated in 1.0 and will raise a TypeError in 1.2. Please convert to a numpy array with np.asarray. For more information see: https://numpy.org/doc/stable/reference/generated/numpy.matrix.html\n",
      "  warnings.warn(\n"
     ]
    }
   ],
   "source": [
    "clf = GradientBoostingClassifier(n_estimators = 2000, random_state = 0)\n",
    "clf.fit(X_train, y_train)\n",
    "\n",
    "y_pred = clf.predict(X_test)"
   ]
  },
  {
   "cell_type": "code",
   "execution_count": 26,
   "id": "c0724b9b",
   "metadata": {},
   "outputs": [
    {
     "name": "stdout",
     "output_type": "stream",
     "text": [
      "              precision    recall  f1-score   support\n",
      "\n",
      "       autre       0.99      1.00      0.99       213\n",
      "     facture       1.00      0.79      0.88        14\n",
      "\n",
      "    accuracy                           0.99       227\n",
      "   macro avg       0.99      0.89      0.94       227\n",
      "weighted avg       0.99      0.99      0.99       227\n",
      "\n"
     ]
    },
    {
     "data": {
      "text/html": [
       "<div>\n",
       "<style scoped>\n",
       "    .dataframe tbody tr th:only-of-type {\n",
       "        vertical-align: middle;\n",
       "    }\n",
       "\n",
       "    .dataframe tbody tr th {\n",
       "        vertical-align: top;\n",
       "    }\n",
       "\n",
       "    .dataframe thead th {\n",
       "        text-align: right;\n",
       "    }\n",
       "</style>\n",
       "<table border=\"1\" class=\"dataframe\">\n",
       "  <thead>\n",
       "    <tr style=\"text-align: right;\">\n",
       "      <th>Classe prédite</th>\n",
       "      <th>autre</th>\n",
       "      <th>facture</th>\n",
       "    </tr>\n",
       "    <tr>\n",
       "      <th>Classe réelle</th>\n",
       "      <th></th>\n",
       "      <th></th>\n",
       "    </tr>\n",
       "  </thead>\n",
       "  <tbody>\n",
       "    <tr>\n",
       "      <th>autre</th>\n",
       "      <td>213</td>\n",
       "      <td>0</td>\n",
       "    </tr>\n",
       "    <tr>\n",
       "      <th>facture</th>\n",
       "      <td>3</td>\n",
       "      <td>11</td>\n",
       "    </tr>\n",
       "  </tbody>\n",
       "</table>\n",
       "</div>"
      ],
      "text/plain": [
       "Classe prédite  autre  facture\n",
       "Classe réelle                 \n",
       "autre             213        0\n",
       "facture             3       11"
      ]
     },
     "execution_count": 26,
     "metadata": {},
     "output_type": "execute_result"
    }
   ],
   "source": [
    "from sklearn.metrics import classification_report\n",
    "\n",
    "print(classification_report(y_test, y_pred, target_names = ['autre', 'facture']))\n",
    "\n",
    "confusion_matrix = pd.crosstab(y_test, y_pred, rownames = ['Classe réelle'], colnames = ['Classe prédite']).rename(columns={0: \"autre\",1: \"facture\"}).rename(index={0: \"autre\", 1: \"facture\"})\n",
    "confusion_matrix"
   ]
  },
  {
   "cell_type": "markdown",
   "id": "dbe41aa5",
   "metadata": {},
   "source": [
    "On observe de bons résultats, encore meilleurs qu'avec le type CV. Il semble que les factures soient plus faciles à reconnaître.\n",
    "Idem, on va utiliser un RandomOverSampling pour essayer d'optimiser encore ces résultats."
   ]
  },
  {
   "cell_type": "code",
   "execution_count": 27,
   "id": "ebe66711",
   "metadata": {},
   "outputs": [
    {
     "name": "stdout",
     "output_type": "stream",
     "text": [
      "              precision    recall  f1-score   support\n",
      "\n",
      "       autre       1.00      1.00      1.00       213\n",
      "     facture       1.00      0.93      0.96        14\n",
      "\n",
      "    accuracy                           1.00       227\n",
      "   macro avg       1.00      0.96      0.98       227\n",
      "weighted avg       1.00      1.00      1.00       227\n",
      "\n"
     ]
    },
    {
     "name": "stderr",
     "output_type": "stream",
     "text": [
      "C:\\Users\\alexj\\Documents\\Anaconda\\lib\\site-packages\\sklearn\\utils\\validation.py:593: FutureWarning: np.matrix usage is deprecated in 1.0 and will raise a TypeError in 1.2. Please convert to a numpy array with np.asarray. For more information see: https://numpy.org/doc/stable/reference/generated/numpy.matrix.html\n",
      "  warnings.warn(\n"
     ]
    },
    {
     "data": {
      "text/html": [
       "<div>\n",
       "<style scoped>\n",
       "    .dataframe tbody tr th:only-of-type {\n",
       "        vertical-align: middle;\n",
       "    }\n",
       "\n",
       "    .dataframe tbody tr th {\n",
       "        vertical-align: top;\n",
       "    }\n",
       "\n",
       "    .dataframe thead th {\n",
       "        text-align: right;\n",
       "    }\n",
       "</style>\n",
       "<table border=\"1\" class=\"dataframe\">\n",
       "  <thead>\n",
       "    <tr style=\"text-align: right;\">\n",
       "      <th>Classe prédite</th>\n",
       "      <th>autre</th>\n",
       "      <th>rrc.cvc</th>\n",
       "    </tr>\n",
       "    <tr>\n",
       "      <th>Classe réelle</th>\n",
       "      <th></th>\n",
       "      <th></th>\n",
       "    </tr>\n",
       "  </thead>\n",
       "  <tbody>\n",
       "    <tr>\n",
       "      <th>autre</th>\n",
       "      <td>213</td>\n",
       "      <td>0</td>\n",
       "    </tr>\n",
       "    <tr>\n",
       "      <th>facture</th>\n",
       "      <td>1</td>\n",
       "      <td>13</td>\n",
       "    </tr>\n",
       "  </tbody>\n",
       "</table>\n",
       "</div>"
      ],
      "text/plain": [
       "Classe prédite  autre  rrc.cvc\n",
       "Classe réelle                 \n",
       "autre             213        0\n",
       "facture             1       13"
      ]
     },
     "execution_count": 27,
     "metadata": {},
     "output_type": "execute_result"
    }
   ],
   "source": [
    "ro = over_sampling.RandomOverSampler()\n",
    "X_ro, y_ro = ro.fit_resample(X_train, y_train)\n",
    "clf.fit(X_ro, y_ro)\n",
    "y_pred_ro = clf.predict(X_test)\n",
    "print(classification_report(y_test, y_pred_ro, target_names = ['autre', 'facture']))\n",
    "\n",
    "confusion_matrix = pd.crosstab(y_test, y_pred_ro, rownames = ['Classe réelle'], colnames = ['Classe prédite']).rename(columns={0: \"autre\",1: \"rrc.cvc\"}).rename(index={0: \"autre\", 1: \"facture\"})\n",
    "confusion_matrix"
   ]
  },
  {
   "cell_type": "markdown",
   "id": "06f568e9",
   "metadata": {},
   "source": [
    "Le rééquilibrage du dataset d'entrainement a permis d'encore améliorer les performances, déjà très correctes, de l'algorithme."
   ]
  },
  {
   "cell_type": "markdown",
   "id": "8700130b",
   "metadata": {},
   "source": [
    "## Prédiction de l'ensemble des catégories - Validation croisée"
   ]
  },
  {
   "cell_type": "markdown",
   "id": "efce3a2d",
   "metadata": {},
   "source": [
    "On essaye maintenant de prédire l'ensemble des catégories. On ajoute une colonne 'type_num', qui convertit le type en variable numérique."
   ]
  },
  {
   "cell_type": "code",
   "execution_count": 28,
   "id": "6e3f8555",
   "metadata": {},
   "outputs": [],
   "source": [
    "df['type_num'] = df.type.replace(df.type.unique().tolist(), [x for x in range(len(df['type'].unique()))])"
   ]
  },
  {
   "cell_type": "code",
   "execution_count": 29,
   "id": "7c5d56e9",
   "metadata": {},
   "outputs": [
    {
     "data": {
      "text/html": [
       "<div>\n",
       "<style scoped>\n",
       "    .dataframe tbody tr th:only-of-type {\n",
       "        vertical-align: middle;\n",
       "    }\n",
       "\n",
       "    .dataframe tbody tr th {\n",
       "        vertical-align: top;\n",
       "    }\n",
       "\n",
       "    .dataframe thead th {\n",
       "        text-align: right;\n",
       "    }\n",
       "</style>\n",
       "<table border=\"1\" class=\"dataframe\">\n",
       "  <thead>\n",
       "    <tr style=\"text-align: right;\">\n",
       "      <th></th>\n",
       "      <th>type</th>\n",
       "      <th>filename</th>\n",
       "      <th>size</th>\n",
       "      <th>width</th>\n",
       "      <th>height</th>\n",
       "      <th>mots_concat</th>\n",
       "      <th>mots_doctr_trad</th>\n",
       "      <th>type_advertisement</th>\n",
       "      <th>type_budget</th>\n",
       "      <th>type_carte postale</th>\n",
       "      <th>...</th>\n",
       "      <th>type_memo</th>\n",
       "      <th>type_news_article</th>\n",
       "      <th>type_passeport</th>\n",
       "      <th>type_paye</th>\n",
       "      <th>type_presentation</th>\n",
       "      <th>type_questionnaire</th>\n",
       "      <th>type_resume</th>\n",
       "      <th>type_scientific_doc</th>\n",
       "      <th>type_specification</th>\n",
       "      <th>type_num</th>\n",
       "    </tr>\n",
       "  </thead>\n",
       "  <tbody>\n",
       "    <tr>\n",
       "      <th>0</th>\n",
       "      <td>facture</td>\n",
       "      <td>img_0000000.jpg</td>\n",
       "      <td>59453</td>\n",
       "      <td>750</td>\n",
       "      <td>1061</td>\n",
       "      <td>factur logo joanner binet coubertin pari factu...</td>\n",
       "      <td>bill logo joanner binet coubertine bet bill b...</td>\n",
       "      <td>0</td>\n",
       "      <td>0</td>\n",
       "      <td>0</td>\n",
       "      <td>...</td>\n",
       "      <td>0</td>\n",
       "      <td>0</td>\n",
       "      <td>0</td>\n",
       "      <td>0</td>\n",
       "      <td>0</td>\n",
       "      <td>0</td>\n",
       "      <td>0</td>\n",
       "      <td>0</td>\n",
       "      <td>0</td>\n",
       "      <td>0</td>\n",
       "    </tr>\n",
       "    <tr>\n",
       "      <th>1</th>\n",
       "      <td>facture</td>\n",
       "      <td>img_0000001.jpg</td>\n",
       "      <td>55157</td>\n",
       "      <td>750</td>\n",
       "      <td>1061</td>\n",
       "      <td>joanner binet coubertin pari factur facturé ce...</td>\n",
       "      <td>joanner binet coubertine bet bill billed butt...</td>\n",
       "      <td>0</td>\n",
       "      <td>0</td>\n",
       "      <td>0</td>\n",
       "      <td>...</td>\n",
       "      <td>0</td>\n",
       "      <td>0</td>\n",
       "      <td>0</td>\n",
       "      <td>0</td>\n",
       "      <td>0</td>\n",
       "      <td>0</td>\n",
       "      <td>0</td>\n",
       "      <td>0</td>\n",
       "      <td>0</td>\n",
       "      <td>0</td>\n",
       "    </tr>\n",
       "    <tr>\n",
       "      <th>2</th>\n",
       "      <td>facture</td>\n",
       "      <td>img_0000002.jpg</td>\n",
       "      <td>32097</td>\n",
       "      <td>726</td>\n",
       "      <td>1024</td>\n",
       "      <td>factur entreprise nom société adresse postal a...</td>\n",
       "      <td>bill enterprise name company address postal a...</td>\n",
       "      <td>0</td>\n",
       "      <td>0</td>\n",
       "      <td>0</td>\n",
       "      <td>...</td>\n",
       "      <td>0</td>\n",
       "      <td>0</td>\n",
       "      <td>0</td>\n",
       "      <td>0</td>\n",
       "      <td>0</td>\n",
       "      <td>0</td>\n",
       "      <td>0</td>\n",
       "      <td>0</td>\n",
       "      <td>0</td>\n",
       "      <td>0</td>\n",
       "    </tr>\n",
       "    <tr>\n",
       "      <th>3</th>\n",
       "      <td>facture</td>\n",
       "      <td>img_0000003.jpg</td>\n",
       "      <td>63937</td>\n",
       "      <td>750</td>\n",
       "      <td>1061</td>\n",
       "      <td>joanner binet coubertin pari factur cendrillon...</td>\n",
       "      <td>joanner binet coubertine bet bill butterfly a...</td>\n",
       "      <td>0</td>\n",
       "      <td>0</td>\n",
       "      <td>0</td>\n",
       "      <td>...</td>\n",
       "      <td>0</td>\n",
       "      <td>0</td>\n",
       "      <td>0</td>\n",
       "      <td>0</td>\n",
       "      <td>0</td>\n",
       "      <td>0</td>\n",
       "      <td>0</td>\n",
       "      <td>0</td>\n",
       "      <td>0</td>\n",
       "      <td>0</td>\n",
       "    </tr>\n",
       "    <tr>\n",
       "      <th>4</th>\n",
       "      <td>facture</td>\n",
       "      <td>img_0000004.jpg</td>\n",
       "      <td>79474</td>\n",
       "      <td>773</td>\n",
       "      <td>771</td>\n",
       "      <td>payer ligne factur sfideli date création date ...</td>\n",
       "      <td>pay line bill sfideli date establishment date...</td>\n",
       "      <td>0</td>\n",
       "      <td>0</td>\n",
       "      <td>0</td>\n",
       "      <td>...</td>\n",
       "      <td>0</td>\n",
       "      <td>0</td>\n",
       "      <td>0</td>\n",
       "      <td>0</td>\n",
       "      <td>0</td>\n",
       "      <td>0</td>\n",
       "      <td>0</td>\n",
       "      <td>0</td>\n",
       "      <td>0</td>\n",
       "      <td>0</td>\n",
       "    </tr>\n",
       "  </tbody>\n",
       "</table>\n",
       "<p>5 rows × 28 columns</p>\n",
       "</div>"
      ],
      "text/plain": [
       "      type         filename   size  width  height  \\\n",
       "0  facture  img_0000000.jpg  59453    750    1061   \n",
       "1  facture  img_0000001.jpg  55157    750    1061   \n",
       "2  facture  img_0000002.jpg  32097    726    1024   \n",
       "3  facture  img_0000003.jpg  63937    750    1061   \n",
       "4  facture  img_0000004.jpg  79474    773     771   \n",
       "\n",
       "                                         mots_concat  \\\n",
       "0  factur logo joanner binet coubertin pari factu...   \n",
       "1  joanner binet coubertin pari factur facturé ce...   \n",
       "2  factur entreprise nom société adresse postal a...   \n",
       "3  joanner binet coubertin pari factur cendrillon...   \n",
       "4  payer ligne factur sfideli date création date ...   \n",
       "\n",
       "                                     mots_doctr_trad  type_advertisement  \\\n",
       "0   bill logo joanner binet coubertine bet bill b...                   0   \n",
       "1   joanner binet coubertine bet bill billed butt...                   0   \n",
       "2   bill enterprise name company address postal a...                   0   \n",
       "3   joanner binet coubertine bet bill butterfly a...                   0   \n",
       "4   pay line bill sfideli date establishment date...                   0   \n",
       "\n",
       "   type_budget  type_carte postale  ...  type_memo  type_news_article  \\\n",
       "0            0                   0  ...          0                  0   \n",
       "1            0                   0  ...          0                  0   \n",
       "2            0                   0  ...          0                  0   \n",
       "3            0                   0  ...          0                  0   \n",
       "4            0                   0  ...          0                  0   \n",
       "\n",
       "   type_passeport  type_paye  type_presentation  type_questionnaire  \\\n",
       "0               0          0                  0                   0   \n",
       "1               0          0                  0                   0   \n",
       "2               0          0                  0                   0   \n",
       "3               0          0                  0                   0   \n",
       "4               0          0                  0                   0   \n",
       "\n",
       "   type_resume  type_scientific_doc  type_specification  type_num  \n",
       "0            0                    0                   0         0  \n",
       "1            0                    0                   0         0  \n",
       "2            0                    0                   0         0  \n",
       "3            0                    0                   0         0  \n",
       "4            0                    0                   0         0  \n",
       "\n",
       "[5 rows x 28 columns]"
      ]
     },
     "execution_count": 29,
     "metadata": {},
     "output_type": "execute_result"
    }
   ],
   "source": [
    "df.head()"
   ]
  },
  {
   "cell_type": "code",
   "execution_count": 30,
   "id": "4fa050a4",
   "metadata": {},
   "outputs": [],
   "source": [
    "X = df.mots_doctr_trad\n",
    "y = df.type_num\n",
    "\n",
    "X_train, X_test, y_train, y_test = train_test_split(X,y,test_size = 0.2, random_state = 42)\n",
    "\n",
    "vectorizer = CountVectorizer(ngram_range = (1,3), max_features = 500)\n",
    "X_train = vectorizer.fit_transform(X_train)\n",
    "X_test = vectorizer.transform(X_test).todense()\n",
    "\n",
    "ro = over_sampling.RandomOverSampler()\n",
    "X_ro, y_ro = ro.fit_resample(X_train, y_train)"
   ]
  },
  {
   "cell_type": "markdown",
   "id": "83365968",
   "metadata": {},
   "source": [
    "On test le modèle KNeighbors :"
   ]
  },
  {
   "cell_type": "code",
   "execution_count": 31,
   "id": "f13fb672",
   "metadata": {},
   "outputs": [
    {
     "data": {
      "text/plain": [
       "KNeighborsClassifier(n_neighbors=3)"
      ]
     },
     "execution_count": 31,
     "metadata": {},
     "output_type": "execute_result"
    }
   ],
   "source": [
    "from sklearn import neighbors, datasets\n",
    "knn = neighbors.KNeighborsClassifier(n_neighbors = 3, metric = 'minkowski')\n",
    "\n",
    "knn.fit(X_ro, y_ro)"
   ]
  },
  {
   "cell_type": "code",
   "execution_count": 32,
   "id": "bd7733d4",
   "metadata": {},
   "outputs": [
    {
     "name": "stderr",
     "output_type": "stream",
     "text": [
      "C:\\Users\\alexj\\Documents\\Anaconda\\lib\\site-packages\\sklearn\\utils\\validation.py:593: FutureWarning: np.matrix usage is deprecated in 1.0 and will raise a TypeError in 1.2. Please convert to a numpy array with np.asarray. For more information see: https://numpy.org/doc/stable/reference/generated/numpy.matrix.html\n",
      "  warnings.warn(\n"
     ]
    }
   ],
   "source": [
    "y_pred = knn.predict(X_test)"
   ]
  },
  {
   "cell_type": "code",
   "execution_count": 33,
   "id": "232b6444",
   "metadata": {},
   "outputs": [
    {
     "data": {
      "text/plain": [
       "<AxesSubplot:xlabel='Classe prédite', ylabel='Classe réelle'>"
      ]
     },
     "execution_count": 33,
     "metadata": {},
     "output_type": "execute_result"
    },
    {
     "data": {
      "image/png": "[encoded data removed]",
      "text/plain": [
       "<Figure size 2000x2000 with 2 Axes>"
      ]
     },
     "metadata": {},
     "output_type": "display_data"
    }
   ],
   "source": [
    "heatmap = pd.crosstab(y_test, y_pred, rownames=['Classe réelle'], colnames=['Classe prédite'])\n",
    "\n",
    "import seaborn as sns\n",
    "plt.figure(figsize = (20,20))\n",
    "sns.heatmap(heatmap, annot = True, cmap = \"RdBu_r\", xticklabels = df.type.unique().tolist(), yticklabels = df.type.unique().tolist())"
   ]
  },
  {
   "cell_type": "code",
   "execution_count": 34,
   "id": "8830955f",
   "metadata": {},
   "outputs": [
    {
     "name": "stdout",
     "output_type": "stream",
     "text": [
      "0.5374449339207048\n"
     ]
    },
    {
     "name": "stderr",
     "output_type": "stream",
     "text": [
      "C:\\Users\\alexj\\Documents\\Anaconda\\lib\\site-packages\\sklearn\\utils\\validation.py:593: FutureWarning: np.matrix usage is deprecated in 1.0 and will raise a TypeError in 1.2. Please convert to a numpy array with np.asarray. For more information see: https://numpy.org/doc/stable/reference/generated/numpy.matrix.html\n",
      "  warnings.warn(\n"
     ]
    }
   ],
   "source": [
    "score_minkowski = knn.score(X_test, y_test)\n",
    "print(score_minkowski)"
   ]
  },
  {
   "cell_type": "markdown",
   "id": "ae6ec538",
   "metadata": {},
   "source": [
    "Le score n'est pas très bon, mais il semble que la lemmatisation effectuée à l'étape précédente augmente les performances. On essaye différents modèles, avec pour but de trouver et d'optimiser le plus performant."
   ]
  },
  {
   "cell_type": "code",
   "execution_count": 35,
   "id": "be8ff026",
   "metadata": {},
   "outputs": [],
   "source": [
    "from sklearn.model_selection import GridSearchCV, cross_val_score\n",
    "from sklearn.linear_model import LogisticRegression\n",
    "from sklearn.ensemble import RandomForestClassifier\n",
    "from sklearn.svm import SVC"
   ]
  },
  {
   "cell_type": "markdown",
   "id": "a32c5da1",
   "metadata": {},
   "source": [
    "### Essai 1 - Même paramètres que lors de la classification précédente (max_features = 500)"
   ]
  },
  {
   "cell_type": "code",
   "execution_count": 36,
   "id": "36c37d83",
   "metadata": {},
   "outputs": [],
   "source": [
    "clf_lr = LogisticRegression(max_iter=2000)\n",
    "clf_rf = RandomForestClassifier(n_jobs = -1)\n",
    "clf_svc = SVC()\n",
    "\n",
    "\n",
    "param_grid_lr = {'solver': ['liblinear', 'lbfgs'], 'C': np.logspace(-4, 2, 9)}\n",
    "\n",
    "param_grid_rf = [{'n_estimators': [10, 50, 100, 250, 500, 1000], \n",
    "                  'min_samples_leaf': [1, 3, 5], \n",
    "                  'max_features': ['sqrt', 'log2']}]\n",
    "\n",
    "param_grid_svc = [{'kernel': ['rbf'], 'C': np.logspace(-4, 4, 9), 'gamma': np.logspace(-4, 0, 4)},\n",
    "                  {'kernel': ['linear'], 'C': np.logspace(-4, 4, 9)}]"
   ]
  },
  {
   "cell_type": "code",
   "execution_count": 37,
   "id": "5afe943a",
   "metadata": {},
   "outputs": [],
   "source": [
    "gridcvs = {}\n",
    "\n",
    "for pgrid, clf, name in zip((param_grid_lr,param_grid_rf,param_grid_svc),\n",
    "                           (clf_lr,clf_rf,clf_svc),\n",
    "                           ('LogisticRegression', 'RF','SVM')):\n",
    "    gcv = GridSearchCV(clf, pgrid, cv=3, refit = True)\n",
    "    gridcvs[name] = gcv"
   ]
  },
  {
   "cell_type": "code",
   "execution_count": 38,
   "id": "44c1d2db",
   "metadata": {},
   "outputs": [
    {
     "name": "stdout",
     "output_type": "stream",
     "text": [
      "LogisticRegression: outer accuracy 96.23 +/- 0.46\n",
      "RF: outer accuracy 96.73 +/- 0.23\n",
      "SVM: outer accuracy 96.32 +/- 0.45\n"
     ]
    }
   ],
   "source": [
    "from sklearn.model_selection import StratifiedKFold\n",
    "outer_cv = StratifiedKFold(n_splits=3, shuffle = True)\n",
    "\n",
    "outer_scores = {}\n",
    "\n",
    "for name, gs in gridcvs.items():\n",
    "    nested_score = cross_val_score(gs, X_ro, y_ro, cv = outer_cv)\n",
    "    outer_scores[name] = nested_score\n",
    "    print(f'{name}: outer accuracy {100*nested_score.mean():.2f} +/- {100*nested_score.std():.2f}')"
   ]
  },
  {
   "cell_type": "markdown",
   "id": "3ced798a",
   "metadata": {},
   "source": [
    "Le modèle le plus performant est la RF. On cherche à l'optimiser.\n"
   ]
  },
  {
   "cell_type": "code",
   "execution_count": 39,
   "id": "15a4934c",
   "metadata": {},
   "outputs": [
    {
     "name": "stdout",
     "output_type": "stream",
     "text": [
      "Best Parameters: {'max_features': 'log2', 'min_samples_leaf': 1, 'n_estimators': 500}\n",
      "Training Accuracy: 97.82\n",
      "Test Accuracy: 74.01\n"
     ]
    },
    {
     "name": "stderr",
     "output_type": "stream",
     "text": [
      "C:\\Users\\alexj\\Documents\\Anaconda\\lib\\site-packages\\sklearn\\utils\\validation.py:593: FutureWarning: np.matrix usage is deprecated in 1.0 and will raise a TypeError in 1.2. Please convert to a numpy array with np.asarray. For more information see: https://numpy.org/doc/stable/reference/generated/numpy.matrix.html\n",
      "  warnings.warn(\n"
     ]
    }
   ],
   "source": [
    "from sklearn.metrics import accuracy_score\n",
    "\n",
    "final_clf = gridcvs['RF']\n",
    "final_clf.fit(X_ro, y_ro)\n",
    "\n",
    "print(f'Best Parameters: {final_clf.best_params_}')\n",
    "\n",
    "train_acc = accuracy_score(y_true=y_ro, y_pred=final_clf.predict(X_ro))\n",
    "test_acc = accuracy_score(y_true=y_test, y_pred=final_clf.predict(X_test))\n",
    "\n",
    "print(f'Training Accuracy: {100*train_acc:.2f}')\n",
    "print(f'Test Accuracy: {100*test_acc:.2f}')"
   ]
  },
  {
   "cell_type": "markdown",
   "id": "0524ab76",
   "metadata": {},
   "source": [
    "### Essai 2 - Paramètres originaux (pas de max_features)"
   ]
  },
  {
   "cell_type": "code",
   "execution_count": 40,
   "id": "ea084e5f",
   "metadata": {},
   "outputs": [
    {
     "name": "stdout",
     "output_type": "stream",
     "text": [
      "LogisticRegression: outer accuracy 99.10 +/- 0.04\n",
      "RF: outer accuracy 99.74 +/- 0.11\n",
      "SVM: outer accuracy 99.68 +/- 0.04\n",
      "Best Parameters: {'max_features': 'log2', 'min_samples_leaf': 1, 'n_estimators': 1000}\n"
     ]
    },
    {
     "name": "stderr",
     "output_type": "stream",
     "text": [
      "C:\\Users\\alexj\\Documents\\Anaconda\\lib\\site-packages\\sklearn\\utils\\validation.py:593: FutureWarning: np.matrix usage is deprecated in 1.0 and will raise a TypeError in 1.2. Please convert to a numpy array with np.asarray. For more information see: https://numpy.org/doc/stable/reference/generated/numpy.matrix.html\n",
      "  warnings.warn(\n"
     ]
    },
    {
     "name": "stdout",
     "output_type": "stream",
     "text": [
      "Training Accuracy: 100.00\n",
      "Test Accuracy: 73.57\n"
     ]
    }
   ],
   "source": [
    "X = df.mots_doctr_trad\n",
    "y = df.type_num\n",
    "\n",
    "X_train, X_test, y_train, y_test = train_test_split(X,y,test_size = 0.2, random_state = 42)\n",
    "\n",
    "vectorizer = CountVectorizer()\n",
    "X_train = vectorizer.fit_transform(X_train)\n",
    "X_test = vectorizer.transform(X_test).todense()\n",
    "\n",
    "ro = over_sampling.RandomOverSampler()\n",
    "X_ro, y_ro = ro.fit_resample(X_train, y_train)\n",
    "\n",
    "clf_lr = LogisticRegression(random_state=22, max_iter=2000)\n",
    "clf_rf = RandomForestClassifier(n_jobs = -1, random_state=22)\n",
    "clf_svc = SVC(random_state=22)\n",
    "\n",
    "\n",
    "param_grid_lr = {'solver': ['liblinear', 'lbfgs'], 'C': np.logspace(-4, 2, 9)}\n",
    "\n",
    "param_grid_rf = [{'n_estimators': [10, 50, 100, 250, 500, 1000, 2500], \n",
    "                  'min_samples_leaf': [1, 3, 5], \n",
    "                  'max_features': ['sqrt', 'log2']}]\n",
    "\n",
    "param_grid_svc = [{'kernel': ['rbf'], 'C': np.logspace(-4, 4, 9), 'gamma': np.logspace(-4, 0, 4)},\n",
    "                  {'kernel': ['linear'], 'C': np.logspace(-4, 4, 9)}]\n",
    "\n",
    "gridcvs = {}\n",
    "\n",
    "for pgrid, clf, name in zip((param_grid_lr,param_grid_rf,param_grid_svc),\n",
    "                           (clf_lr,clf_rf,clf_svc),\n",
    "                           ('LogisticRegression', 'RF','SVM')):\n",
    "    gcv = GridSearchCV(clf, pgrid, cv=3, refit = True)\n",
    "    gridcvs[name] = gcv\n",
    "    \n",
    "from sklearn.model_selection import StratifiedKFold\n",
    "outer_cv = StratifiedKFold(n_splits=3, shuffle = True)\n",
    "\n",
    "outer_scores = {}\n",
    "\n",
    "for name, gs in gridcvs.items():\n",
    "    nested_score = cross_val_score(gs, X_ro, y_ro, cv = outer_cv)\n",
    "    outer_scores[name] = nested_score\n",
    "    print(f'{name}: outer accuracy {100*nested_score.mean():.2f} +/- {100*nested_score.std():.2f}')\n",
    "    \n",
    "final_clf = gridcvs['RF']\n",
    "final_clf.fit(X_ro, y_ro)\n",
    "\n",
    "print(f'Best Parameters: {final_clf.best_params_}')\n",
    "\n",
    "train_acc = accuracy_score(y_true=y_ro, y_pred=final_clf.predict(X_ro))\n",
    "test_acc = accuracy_score(y_true=y_test, y_pred=final_clf.predict(X_test))\n",
    "\n",
    "print(f'Training Accuracy: {100*train_acc:.2f}')\n",
    "print(f'Test Accuracy: {100*test_acc:.2f}')"
   ]
  },
  {
   "cell_type": "code",
   "execution_count": 41,
   "id": "27a82b16",
   "metadata": {},
   "outputs": [
    {
     "name": "stdout",
     "output_type": "stream",
     "text": [
      "Best Parameters: {'C': 100.0, 'gamma': 0.002154434690031882, 'kernel': 'rbf'}\n",
      "Training Accuracy: 100.00\n",
      "Test Accuracy: 68.28\n"
     ]
    },
    {
     "name": "stderr",
     "output_type": "stream",
     "text": [
      "C:\\Users\\alexj\\Documents\\Anaconda\\lib\\site-packages\\sklearn\\utils\\validation.py:593: FutureWarning: np.matrix usage is deprecated in 1.0 and will raise a TypeError in 1.2. Please convert to a numpy array with np.asarray. For more information see: https://numpy.org/doc/stable/reference/generated/numpy.matrix.html\n",
      "  warnings.warn(\n"
     ]
    }
   ],
   "source": [
    "final_clf = gridcvs['SVM']\n",
    "final_clf.fit(X_ro, y_ro)\n",
    "\n",
    "print(f'Best Parameters: {final_clf.best_params_}')\n",
    "\n",
    "train_acc = accuracy_score(y_true=y_ro, y_pred=final_clf.predict(X_ro))\n",
    "test_acc = accuracy_score(y_true=y_test, y_pred=final_clf.predict(X_test))\n",
    "\n",
    "print(f'Training Accuracy: {100*train_acc:.2f}')\n",
    "print(f'Test Accuracy: {100*test_acc:.2f}')"
   ]
  },
  {
   "cell_type": "markdown",
   "id": "1ebb512f",
   "metadata": {},
   "source": [
    "La Random Forest semble mieux s'en sortir. On cherche à confirmer ça dans les essais suivants."
   ]
  },
  {
   "cell_type": "markdown",
   "id": "9d5d923d",
   "metadata": {},
   "source": [
    "### Essai 3 - Max_features = 5000"
   ]
  },
  {
   "cell_type": "code",
   "execution_count": 42,
   "id": "c158be19",
   "metadata": {},
   "outputs": [
    {
     "name": "stdout",
     "output_type": "stream",
     "text": [
      "LogisticRegression: outer accuracy 98.19 +/- 0.15\n",
      "RF: outer accuracy 98.71 +/- 0.07\n",
      "SVM: outer accuracy 98.57 +/- 0.27\n"
     ]
    }
   ],
   "source": [
    "X = df.mots_doctr_trad\n",
    "y = df.type_num\n",
    "\n",
    "X_train, X_test, y_train, y_test = train_test_split(X,y,test_size = 0.2, random_state = 42)\n",
    "\n",
    "vectorizer = CountVectorizer(ngram_range = (1,3), max_features = 5000)\n",
    "X_train = vectorizer.fit_transform(X_train)\n",
    "X_test = vectorizer.transform(X_test).todense()\n",
    "\n",
    "ro = over_sampling.RandomOverSampler()\n",
    "X_ro, y_ro = ro.fit_resample(X_train, y_train)\n",
    "\n",
    "clf_lr = LogisticRegression(random_state=22, max_iter=2000)\n",
    "clf_rf = RandomForestClassifier(n_jobs = -1, random_state=22)\n",
    "clf_svc = SVC(random_state=22)\n",
    "\n",
    "\n",
    "param_grid_lr = {'solver': ['liblinear', 'lbfgs'], 'C': np.logspace(-4, 2, 9)}\n",
    "\n",
    "param_grid_rf = [{'n_estimators': [10, 50, 100, 250, 500, 1000, 2500], \n",
    "                  'min_samples_leaf': [1, 3, 5], \n",
    "                  'max_features': ['sqrt', 'log2']}]\n",
    "\n",
    "param_grid_svc = [{'kernel': ['rbf'], 'C': np.logspace(-4, 4, 9), 'gamma': np.logspace(-4, 0, 4)},\n",
    "                  {'kernel': ['linear'], 'C': np.logspace(-4, 4, 9)}]\n",
    "\n",
    "gridcvs = {}\n",
    "\n",
    "for pgrid, clf, name in zip((param_grid_lr,param_grid_rf,param_grid_svc),\n",
    "                           (clf_lr,clf_rf,clf_svc),\n",
    "                           ('LogisticRegression', 'RF','SVM')):\n",
    "    gcv = GridSearchCV(clf, pgrid, cv=3, refit = True)\n",
    "    gridcvs[name] = gcv\n",
    "    \n",
    "from sklearn.model_selection import StratifiedKFold\n",
    "outer_cv = StratifiedKFold(n_splits=3, shuffle = True)\n",
    "\n",
    "outer_scores = {}\n",
    "\n",
    "for name, gs in gridcvs.items():\n",
    "    nested_score = cross_val_score(gs, X_ro, y_ro, cv = outer_cv)\n",
    "    outer_scores[name] = nested_score\n",
    "    print(f'{name}: outer accuracy {100*nested_score.mean():.2f} +/- {100*nested_score.std():.2f}')\n",
    "    \n"
   ]
  },
  {
   "cell_type": "code",
   "execution_count": 43,
   "id": "2c30e4c1",
   "metadata": {},
   "outputs": [
    {
     "name": "stdout",
     "output_type": "stream",
     "text": [
      "Best Parameters: {'max_features': 'log2', 'min_samples_leaf': 1, 'n_estimators': 1000}\n"
     ]
    },
    {
     "name": "stderr",
     "output_type": "stream",
     "text": [
      "C:\\Users\\alexj\\Documents\\Anaconda\\lib\\site-packages\\sklearn\\utils\\validation.py:593: FutureWarning: np.matrix usage is deprecated in 1.0 and will raise a TypeError in 1.2. Please convert to a numpy array with np.asarray. For more information see: https://numpy.org/doc/stable/reference/generated/numpy.matrix.html\n",
      "  warnings.warn(\n"
     ]
    },
    {
     "name": "stdout",
     "output_type": "stream",
     "text": [
      "Training Accuracy: 99.74\n",
      "Test Accuracy: 75.33\n"
     ]
    }
   ],
   "source": [
    "final_clf = gridcvs['RF']\n",
    "final_clf.fit(X_ro, y_ro)\n",
    "\n",
    "print(f'Best Parameters: {final_clf.best_params_}')\n",
    "\n",
    "train_acc = accuracy_score(y_true=y_ro, y_pred=final_clf.predict(X_ro))\n",
    "test_acc = accuracy_score(y_true=y_test, y_pred=final_clf.predict(X_test))\n",
    "\n",
    "print(f'Training Accuracy: {100*train_acc:.2f}')\n",
    "print(f'Test Accuracy: {100*test_acc:.2f}')"
   ]
  },
  {
   "cell_type": "code",
   "execution_count": 44,
   "id": "f1f5a522",
   "metadata": {},
   "outputs": [
    {
     "name": "stdout",
     "output_type": "stream",
     "text": [
      "Best Parameters: {'C': 100.0, 'gamma': 0.046415888336127774, 'kernel': 'rbf'}\n",
      "Training Accuracy: 99.74\n",
      "Test Accuracy: 38.77\n"
     ]
    },
    {
     "name": "stderr",
     "output_type": "stream",
     "text": [
      "C:\\Users\\alexj\\Documents\\Anaconda\\lib\\site-packages\\sklearn\\utils\\validation.py:593: FutureWarning: np.matrix usage is deprecated in 1.0 and will raise a TypeError in 1.2. Please convert to a numpy array with np.asarray. For more information see: https://numpy.org/doc/stable/reference/generated/numpy.matrix.html\n",
      "  warnings.warn(\n"
     ]
    }
   ],
   "source": [
    "final_clf = gridcvs['SVM']\n",
    "final_clf.fit(X_ro, y_ro)\n",
    "\n",
    "print(f'Best Parameters: {final_clf.best_params_}')\n",
    "\n",
    "train_acc = accuracy_score(y_true=y_ro, y_pred=final_clf.predict(X_ro))\n",
    "test_acc = accuracy_score(y_true=y_test, y_pred=final_clf.predict(X_test))\n",
    "\n",
    "print(f'Training Accuracy: {100*train_acc:.2f}')\n",
    "print(f'Test Accuracy: {100*test_acc:.2f}')"
   ]
  },
  {
   "cell_type": "markdown",
   "id": "8d879484",
   "metadata": {},
   "source": [
    "Cette fois, sur la RandomForest, on voit que réduire le nombre de features à 5000 a semblé augmenter la précision du modèle !"
   ]
  },
  {
   "cell_type": "markdown",
   "id": "fe2b8065",
   "metadata": {},
   "source": [
    "### Essai 4 - RandomForest only, 10.000 features."
   ]
  },
  {
   "cell_type": "code",
   "execution_count": 45,
   "id": "d4962e6d",
   "metadata": {},
   "outputs": [
    {
     "name": "stdout",
     "output_type": "stream",
     "text": [
      "Training Accuracy: 99.88\n",
      "Test Accuracy: 74.89\n"
     ]
    },
    {
     "name": "stderr",
     "output_type": "stream",
     "text": [
      "C:\\Users\\alexj\\Documents\\Anaconda\\lib\\site-packages\\sklearn\\utils\\validation.py:593: FutureWarning: np.matrix usage is deprecated in 1.0 and will raise a TypeError in 1.2. Please convert to a numpy array with np.asarray. For more information see: https://numpy.org/doc/stable/reference/generated/numpy.matrix.html\n",
      "  warnings.warn(\n"
     ]
    }
   ],
   "source": [
    "X = df.mots_doctr_trad\n",
    "y = df.type_num\n",
    "\n",
    "X_train, X_test, y_train, y_test = train_test_split(X,y,test_size = 0.2, random_state = 42)\n",
    "\n",
    "vectorizer = CountVectorizer(ngram_range = (1,3), max_features = 10000)\n",
    "X_train = vectorizer.fit_transform(X_train)\n",
    "X_test = vectorizer.transform(X_test).todense()\n",
    "\n",
    "ro = over_sampling.RandomOverSampler()\n",
    "X_ro, y_ro = ro.fit_resample(X_train, y_train)\n",
    "\n",
    "clf_rf = RandomForestClassifier(n_jobs = -1, random_state=22)\n",
    "param_grid_rf = {'n_estimators': [100, 250, 500, 1000, 2500], 'min_samples_leaf': [1], 'max_features': ['log2']}\n",
    "gridcvs = GridSearchCV(estimator = clf_rf, param_grid = param_grid_rf)\n",
    "\n",
    "gridcvs.fit(X_ro, y_ro);\n",
    "a = gridcvs.cv_results_\n",
    "pd.DataFrame(a)[['params','mean_test_score','std_test_score']]\n",
    "\n",
    "train_acc = accuracy_score(y_true=y_ro, y_pred=gridcvs.predict(X_ro))\n",
    "test_acc = accuracy_score(y_true=y_test, y_pred=gridcvs.predict(X_test))\n",
    "\n",
    "print(f'Training Accuracy: {100*train_acc:.2f}')\n",
    "print(f'Test Accuracy: {100*test_acc:.2f}')"
   ]
  },
  {
   "cell_type": "markdown",
   "id": "3923b1cd",
   "metadata": {},
   "source": [
    "Passer de 5000 à 10000 features ne semble pas améliorer la performance."
   ]
  },
  {
   "cell_type": "markdown",
   "id": "f0d50940",
   "metadata": {},
   "source": [
    "### Test avec la régression logistique."
   ]
  },
  {
   "cell_type": "code",
   "execution_count": 46,
   "id": "9a169352",
   "metadata": {},
   "outputs": [
    {
     "name": "stderr",
     "output_type": "stream",
     "text": [
      "C:\\Users\\alexj\\Documents\\Anaconda\\lib\\site-packages\\sklearn\\linear_model\\_logistic.py:1523: UserWarning: 'n_jobs' > 1 does not have any effect when 'solver' is set to 'liblinear'. Got 'n_jobs' = 8.\n",
      "  warnings.warn(\n"
     ]
    },
    {
     "name": "stdout",
     "output_type": "stream",
     "text": [
      "Training Accuracy: 99.82\n",
      "Test Accuracy: 76.21\n"
     ]
    },
    {
     "name": "stderr",
     "output_type": "stream",
     "text": [
      "C:\\Users\\alexj\\Documents\\Anaconda\\lib\\site-packages\\sklearn\\utils\\validation.py:593: FutureWarning: np.matrix usage is deprecated in 1.0 and will raise a TypeError in 1.2. Please convert to a numpy array with np.asarray. For more information see: https://numpy.org/doc/stable/reference/generated/numpy.matrix.html\n",
      "  warnings.warn(\n"
     ]
    }
   ],
   "source": [
    "X = df.mots_doctr_trad\n",
    "y = df.type_num\n",
    "\n",
    "X_train, X_test, y_train, y_test = train_test_split(X,y,test_size = 0.2, random_state = 42)\n",
    "\n",
    "vectorizer = CountVectorizer(ngram_range = (1,3), max_features = 10000)\n",
    "X_train = vectorizer.fit_transform(X_train)\n",
    "X_test = vectorizer.transform(X_test).todense()\n",
    "\n",
    "ro = over_sampling.RandomOverSampler()\n",
    "X_ro, y_ro = ro.fit_resample(X_train, y_train)\n",
    "\n",
    "clf_lr = LogisticRegression(n_jobs = -1, C = 3.1622776601683795, solver = 'liblinear', random_state=22)\n",
    "\n",
    "clf_lr.fit(X_ro, y_ro);\n",
    "\n",
    "train_acc = accuracy_score(y_true=y_ro, y_pred=clf_lr.predict(X_ro))\n",
    "test_acc = accuracy_score(y_true=y_test, y_pred=clf_lr.predict(X_test))\n",
    "\n",
    "print(f'Training Accuracy: {100*train_acc:.2f}')\n",
    "print(f'Test Accuracy: {100*test_acc:.2f}')"
   ]
  },
  {
   "cell_type": "markdown",
   "id": "30267017",
   "metadata": {},
   "source": [
    "La régression logistique s'en sort bien, mais reste inférieure à la RandomForest. Cependant, elle tourne beaucoup plus vite, cela peut donc être une possibilité pour éventuellement réduire le temps de calcul. "
   ]
  },
  {
   "cell_type": "markdown",
   "id": "81b982d0",
   "metadata": {},
   "source": [
    "### Essai 5 - 20.000 features"
   ]
  },
  {
   "cell_type": "code",
   "execution_count": 47,
   "id": "e0e792da",
   "metadata": {},
   "outputs": [
    {
     "name": "stderr",
     "output_type": "stream",
     "text": [
      "C:\\Users\\alexj\\Documents\\Anaconda\\lib\\site-packages\\sklearn\\utils\\validation.py:593: FutureWarning: np.matrix usage is deprecated in 1.0 and will raise a TypeError in 1.2. Please convert to a numpy array with np.asarray. For more information see: https://numpy.org/doc/stable/reference/generated/numpy.matrix.html\n",
      "  warnings.warn(\n"
     ]
    },
    {
     "name": "stdout",
     "output_type": "stream",
     "text": [
      "Training Accuracy: 99.93\n",
      "Test Accuracy: 69.60\n"
     ]
    }
   ],
   "source": [
    "X = df.mots_doctr_trad\n",
    "y = df.type_num\n",
    "\n",
    "X_train, X_test, y_train, y_test = train_test_split(X,y,test_size = 0.2, random_state = 42)\n",
    "\n",
    "vectorizer = CountVectorizer(ngram_range = (1,3), max_features = 20000)\n",
    "X_train = vectorizer.fit_transform(X_train)\n",
    "X_test = vectorizer.transform(X_test).todense()\n",
    "\n",
    "ro = over_sampling.RandomOverSampler()\n",
    "X_ro, y_ro = ro.fit_resample(X_train, y_train)\n",
    "\n",
    "clf_rf = RandomForestClassifier(n_jobs = -1, random_state=22)\n",
    "param_grid_rf = {'n_estimators': [100, 250, 500, 1000, 2500], 'min_samples_leaf': [1], 'max_features': ['log2']}\n",
    "gridcvs = GridSearchCV(estimator = clf_rf, param_grid = param_grid_rf)\n",
    "\n",
    "gridcvs.fit(X_ro, y_ro);\n",
    "a = gridcvs.cv_results_\n",
    "pd.DataFrame(a)[['params','mean_test_score','std_test_score']].head()\n",
    "\n",
    "train_acc = accuracy_score(y_true=y_ro, y_pred=gridcvs.predict(X_ro))\n",
    "test_acc = accuracy_score(y_true=y_test, y_pred=gridcvs.predict(X_test))\n",
    "\n",
    "print(f'Training Accuracy: {100*train_acc:.2f}')\n",
    "print(f'Test Accuracy: {100*test_acc:.2f}')"
   ]
  },
  {
   "cell_type": "markdown",
   "id": "226daf4f",
   "metadata": {},
   "source": [
    "### Essai 6 - 10.000 features, n_gram = (1,2)"
   ]
  },
  {
   "cell_type": "code",
   "execution_count": 48,
   "id": "5ef6b9f6",
   "metadata": {},
   "outputs": [
    {
     "name": "stdout",
     "output_type": "stream",
     "text": [
      "Training Accuracy: 99.81\n",
      "Test Accuracy: 74.89\n"
     ]
    },
    {
     "name": "stderr",
     "output_type": "stream",
     "text": [
      "C:\\Users\\alexj\\Documents\\Anaconda\\lib\\site-packages\\sklearn\\utils\\validation.py:593: FutureWarning: np.matrix usage is deprecated in 1.0 and will raise a TypeError in 1.2. Please convert to a numpy array with np.asarray. For more information see: https://numpy.org/doc/stable/reference/generated/numpy.matrix.html\n",
      "  warnings.warn(\n"
     ]
    }
   ],
   "source": [
    "X = df.mots_doctr_trad\n",
    "y = df.type_num\n",
    "\n",
    "X_train, X_test, y_train, y_test = train_test_split(X,y,test_size = 0.2, random_state = 42)\n",
    "\n",
    "vectorizer = CountVectorizer(ngram_range = (1,2), max_features = 10000)\n",
    "X_train = vectorizer.fit_transform(X_train)\n",
    "X_test = vectorizer.transform(X_test).todense()\n",
    "\n",
    "ro = over_sampling.RandomOverSampler()\n",
    "X_ro, y_ro = ro.fit_resample(X_train, y_train)\n",
    "\n",
    "clf_rf = RandomForestClassifier(n_jobs = -1, random_state=22)\n",
    "param_grid_rf = {'n_estimators': [100, 250, 500, 1000, 2500], 'min_samples_leaf': [1], 'max_features': ['log2']}\n",
    "gridcvs = GridSearchCV(estimator = clf_rf, param_grid = param_grid_rf)\n",
    "\n",
    "gridcvs.fit(X_ro, y_ro);\n",
    "a = gridcvs.cv_results_\n",
    "pd.DataFrame(a)[['params','mean_test_score','std_test_score']].head()\n",
    "\n",
    "train_acc = accuracy_score(y_true=y_ro, y_pred=gridcvs.predict(X_ro))\n",
    "test_acc = accuracy_score(y_true=y_test, y_pred=gridcvs.predict(X_test))\n",
    "\n",
    "print(f'Training Accuracy: {100*train_acc:.2f}')\n",
    "print(f'Test Accuracy: {100*test_acc:.2f}')"
   ]
  },
  {
   "cell_type": "markdown",
   "id": "cac93627",
   "metadata": {},
   "source": [
    "### Essai 7 - 10.000 features, n_gram = 1"
   ]
  },
  {
   "cell_type": "code",
   "execution_count": 57,
   "id": "77009041",
   "metadata": {},
   "outputs": [
    {
     "name": "stderr",
     "output_type": "stream",
     "text": [
      "C:\\Users\\alexj\\Documents\\Anaconda\\lib\\site-packages\\sklearn\\utils\\validation.py:593: FutureWarning: np.matrix usage is deprecated in 1.0 and will raise a TypeError in 1.2. Please convert to a numpy array with np.asarray. For more information see: https://numpy.org/doc/stable/reference/generated/numpy.matrix.html\n",
      "  warnings.warn(\n"
     ]
    },
    {
     "name": "stdout",
     "output_type": "stream",
     "text": [
      "Training Accuracy: 100.00\n",
      "Test Accuracy: 76.65\n"
     ]
    }
   ],
   "source": [
    "X = df.mots_doctr_trad\n",
    "y = df.type_num\n",
    "\n",
    "X_train, X_test, y_train, y_test = train_test_split(X,y,test_size = 0.2, random_state = 42)\n",
    "\n",
    "vectorizer = CountVectorizer(max_features = 10000)\n",
    "X_train = vectorizer.fit_transform(X_train)\n",
    "X_test = vectorizer.transform(X_test).todense()\n",
    "\n",
    "ro = over_sampling.RandomOverSampler()\n",
    "X_ro, y_ro = ro.fit_resample(X_train, y_train)\n",
    "\n",
    "clf_rf = RandomForestClassifier(n_jobs = -1, random_state=22)\n",
    "param_grid_rf = {'n_estimators': [100, 250, 500, 1000, 2500], 'min_samples_leaf': [1], 'max_features': ['log2']}\n",
    "gridcvs = GridSearchCV(estimator = clf_rf, param_grid = param_grid_rf)\n",
    "\n",
    "gridcvs.fit(X_ro, y_ro);\n",
    "a = gridcvs.cv_results_\n",
    "pd.DataFrame(a)[['params','mean_test_score','std_test_score']]\n",
    "\n",
    "train_acc = accuracy_score(y_true=y_ro, y_pred=gridcvs.predict(X_ro))\n",
    "test_acc = accuracy_score(y_true=y_test, y_pred=gridcvs.predict(X_test))\n",
    "\n",
    "\n",
    "\n",
    "print(f'Training Accuracy: {100*train_acc:.2f}')\n",
    "print(f'Test Accuracy: {100*test_acc:.2f}')"
   ]
  },
  {
   "cell_type": "markdown",
   "id": "b5f501e8",
   "metadata": {},
   "source": [
    "## Affichage de la matrice de confusion."
   ]
  },
  {
   "cell_type": "markdown",
   "id": "6a0d53f1",
   "metadata": {},
   "source": [
    "Les derniers paramètres semblent optimaux."
   ]
  },
  {
   "cell_type": "code",
   "execution_count": 59,
   "id": "a1032a14",
   "metadata": {},
   "outputs": [
    {
     "name": "stderr",
     "output_type": "stream",
     "text": [
      "C:\\Users\\alexj\\Documents\\Anaconda\\lib\\site-packages\\sklearn\\utils\\validation.py:593: FutureWarning: np.matrix usage is deprecated in 1.0 and will raise a TypeError in 1.2. Please convert to a numpy array with np.asarray. For more information see: https://numpy.org/doc/stable/reference/generated/numpy.matrix.html\n",
      "  warnings.warn(\n"
     ]
    },
    {
     "data": {
      "text/plain": [
       "<AxesSubplot:xlabel='Classe prédite', ylabel='Classe réelle'>"
      ]
     },
     "execution_count": 59,
     "metadata": {},
     "output_type": "execute_result"
    },
    {
     "data": {
      "image/png": "[encoded data removed]",
      "text/plain": [
       "<Figure size 2000x2000 with 2 Axes>"
      ]
     },
     "metadata": {},
     "output_type": "display_data"
    }
   ],
   "source": [
    "y_pred=gridcvs.predict(X_test)\n",
    "\n",
    "heatmap = pd.crosstab(y_test, y_pred, rownames = ['Classe réelle'], colnames = ['Classe prédite'])\n",
    "plt.figure(figsize = (20,20))\n",
    "sns.heatmap(heatmap, annot = True, cmap = \"RdBu_r\", xticklabels = df.type.unique().tolist(), yticklabels = df.type.unique().tolist())"
   ]
  },
  {
   "cell_type": "markdown",
   "id": "16446663",
   "metadata": {},
   "source": [
    "Le modèle choisi par validation croisée est relativement performant sur l'échantillon de test.\n",
    "En particulier, le modèle affecte beaucoup plus de documents à la classe \"rrc.cvc\" qu'il n'y en a en réalité."
   ]
  },
  {
   "cell_type": "markdown",
   "id": "c978bedd",
   "metadata": {},
   "source": [
    "Sur les 67 \"vrais\" documents scientifiques on en détecte bien 65, mais on y classe également 35 autres documents divers. Quand on regarde le dataset et les wordclouds, cela se comprend : ces documents traitent de sujets très similaires.\n"
   ]
  },
  {
   "cell_type": "code",
   "execution_count": 60,
   "id": "2c679825",
   "metadata": {},
   "outputs": [
    {
     "name": "stdout",
     "output_type": "stream",
     "text": [
      "                 precision    recall  f1-score   support\n",
      "\n",
      "        facture       1.00      1.00      1.00        14\n",
      "      id_pieces       0.90      0.95      0.93        20\n",
      "justif_domicile       1.00      0.67      0.80         3\n",
      "      passeport       1.00      0.88      0.93         8\n",
      "           paye       1.00      0.94      0.97        34\n",
      "  carte postale       0.81      0.81      0.81        16\n",
      " scientific_doc       0.65      0.97      0.78        67\n",
      "           form       1.00      0.50      0.67         2\n",
      "  advertisement       1.00      0.25      0.40         8\n",
      "         letter       0.00      0.00      0.00         5\n",
      "         resume       1.00      0.43      0.60         7\n",
      "  specification       1.00      1.00      1.00         4\n",
      "           memo       0.00      0.00      0.00         3\n",
      "        invoice       1.00      0.75      0.86         4\n",
      "         budget       1.00      0.25      0.40         4\n",
      "   news_article       0.00      0.00      0.00         8\n",
      "   presentation       0.00      0.00      0.00         6\n",
      "    handwritten       0.24      1.00      0.38         4\n",
      "          email       1.00      0.50      0.67         4\n",
      "  questionnaire       1.00      0.33      0.50         6\n",
      "\n",
      "       accuracy                           0.77       227\n",
      "      macro avg       0.73      0.56      0.58       227\n",
      "   weighted avg       0.76      0.77      0.73       227\n",
      "\n"
     ]
    },
    {
     "name": "stderr",
     "output_type": "stream",
     "text": [
      "C:\\Users\\alexj\\Documents\\Anaconda\\lib\\site-packages\\sklearn\\metrics\\_classification.py:1318: UndefinedMetricWarning: Precision and F-score are ill-defined and being set to 0.0 in labels with no predicted samples. Use `zero_division` parameter to control this behavior.\n",
      "  _warn_prf(average, modifier, msg_start, len(result))\n",
      "C:\\Users\\alexj\\Documents\\Anaconda\\lib\\site-packages\\sklearn\\metrics\\_classification.py:1318: UndefinedMetricWarning: Precision and F-score are ill-defined and being set to 0.0 in labels with no predicted samples. Use `zero_division` parameter to control this behavior.\n",
      "  _warn_prf(average, modifier, msg_start, len(result))\n",
      "C:\\Users\\alexj\\Documents\\Anaconda\\lib\\site-packages\\sklearn\\metrics\\_classification.py:1318: UndefinedMetricWarning: Precision and F-score are ill-defined and being set to 0.0 in labels with no predicted samples. Use `zero_division` parameter to control this behavior.\n",
      "  _warn_prf(average, modifier, msg_start, len(result))\n"
     ]
    }
   ],
   "source": [
    "print(classification_report(y_test, y_pred, target_names = df.type.unique().tolist()))"
   ]
  },
  {
   "cell_type": "markdown",
   "id": "f00ee65a",
   "metadata": {},
   "source": [
    "## Itération 4 - essais additionnels"
   ]
  },
  {
   "cell_type": "markdown",
   "id": "5fe790e8",
   "metadata": {},
   "source": [
    "### Essai avec un TF-IDF."
   ]
  },
  {
   "cell_type": "code",
   "execution_count": 67,
   "id": "1db22b06",
   "metadata": {},
   "outputs": [
    {
     "name": "stdout",
     "output_type": "stream",
     "text": [
      "Training Accuracy: 100.00\n",
      "Test Accuracy: 75.33\n"
     ]
    },
    {
     "name": "stderr",
     "output_type": "stream",
     "text": [
      "C:\\Users\\alexj\\Documents\\Anaconda\\lib\\site-packages\\sklearn\\utils\\validation.py:593: FutureWarning: np.matrix usage is deprecated in 1.0 and will raise a TypeError in 1.2. Please convert to a numpy array with np.asarray. For more information see: https://numpy.org/doc/stable/reference/generated/numpy.matrix.html\n",
      "  warnings.warn(\n"
     ]
    }
   ],
   "source": [
    "from sklearn.feature_extraction.text import TfidfVectorizer\n",
    "\n",
    "X = df.mots_doctr_trad\n",
    "y = df.type_num\n",
    "\n",
    "X_train, X_test, y_train, y_test = train_test_split(X,y,test_size = 0.2, random_state = 42)\n",
    "\n",
    "vectorizer = TfidfVectorizer(max_features = 10000)\n",
    "X_train = vectorizer.fit_transform(X_train)\n",
    "X_test = vectorizer.transform(X_test).todense()\n",
    "\n",
    "ro = over_sampling.RandomOverSampler()\n",
    "X_ro, y_ro = ro.fit_resample(X_train, y_train)\n",
    "\n",
    "clf_rf = RandomForestClassifier(n_jobs = -1, random_state=22)\n",
    "param_grid_rf = {'n_estimators': [100, 250, 500, 1000, 2500], 'min_samples_leaf': [1], 'max_features': ['log2']}\n",
    "gridcvs = GridSearchCV(estimator = clf_rf, param_grid = param_grid_rf)\n",
    "\n",
    "gridcvs.fit(X_ro, y_ro);\n",
    "a = gridcvs.cv_results_\n",
    "pd.DataFrame(a)[['params','mean_test_score','std_test_score']]\n",
    "\n",
    "train_acc = accuracy_score(y_true=y_ro, y_pred=gridcvs.predict(X_ro))\n",
    "test_acc = accuracy_score(y_true=y_test, y_pred=gridcvs.predict(X_test))\n",
    "\n",
    "print(f'Training Accuracy: {100*train_acc:.2f}')\n",
    "print(f'Test Accuracy: {100*test_acc:.2f}')"
   ]
  },
  {
   "cell_type": "markdown",
   "id": "e2e268e2",
   "metadata": {},
   "source": [
    "Pas d'amélioration notable."
   ]
  },
  {
   "cell_type": "markdown",
   "id": "b76f2357",
   "metadata": {},
   "source": [
    "### Essai TF-IDF + Logreg"
   ]
  },
  {
   "cell_type": "code",
   "execution_count": 102,
   "id": "4f2fcb35",
   "metadata": {},
   "outputs": [
    {
     "name": "stdout",
     "output_type": "stream",
     "text": [
      "Training Accuracy: 99.89\n",
      "Test Accuracy: 78.85\n"
     ]
    },
    {
     "name": "stderr",
     "output_type": "stream",
     "text": [
      "C:\\Users\\alexj\\Documents\\Anaconda\\lib\\site-packages\\sklearn\\utils\\validation.py:593: FutureWarning: np.matrix usage is deprecated in 1.0 and will raise a TypeError in 1.2. Please convert to a numpy array with np.asarray. For more information see: https://numpy.org/doc/stable/reference/generated/numpy.matrix.html\n",
      "  warnings.warn(\n"
     ]
    }
   ],
   "source": [
    "X = df.mots_doctr_trad\n",
    "y = df.type_num\n",
    "\n",
    "X_train, X_test, y_train, y_test = train_test_split(X,y,test_size = 0.2, random_state = 42)\n",
    "\n",
    "vectorizer = TfidfVectorizer(max_features = 5000)\n",
    "X_train = vectorizer.fit_transform(X_train)\n",
    "X_test = vectorizer.transform(X_test).todense()\n",
    "\n",
    "ro = over_sampling.RandomOverSampler(random_state = 20)\n",
    "X_ro, y_ro = ro.fit_resample(X_train, y_train)\n",
    "\n",
    "clf_lr = LogisticRegression(random_state=42, max_iter=2000)\n",
    "\n",
    "param_grid_lr = {'solver': ['liblinear', 'lbfgs'], 'C': np.logspace(-4, 2, 9)}\n",
    "gridcvs = GridSearchCV(estimator = clf_lr, param_grid = param_grid_lr)\n",
    "gridcvs.fit(X_ro, y_ro);\n",
    "a = gridcvs.cv_results_\n",
    "train_acc = accuracy_score(y_true=y_ro, y_pred=gridcvs.predict(X_ro))\n",
    "test_acc = accuracy_score(y_true=y_test, y_pred=gridcvs.predict(X_test))\n",
    "\n",
    "print(f'Training Accuracy: {100*train_acc:.2f}')\n",
    "print(f'Test Accuracy: {100*test_acc:.2f}')"
   ]
  },
  {
   "cell_type": "markdown",
   "id": "beb7a321",
   "metadata": {},
   "source": [
    "On obtient le meilleur score encore jamais obtenu."
   ]
  },
  {
   "cell_type": "code",
   "execution_count": 103,
   "id": "2e700266",
   "metadata": {},
   "outputs": [
    {
     "data": {
      "text/plain": [
       "{'C': 100.0, 'solver': 'lbfgs'}"
      ]
     },
     "execution_count": 103,
     "metadata": {},
     "output_type": "execute_result"
    }
   ],
   "source": [
    "gridcvs.best_params_"
   ]
  },
  {
   "cell_type": "code",
   "execution_count": 104,
   "id": "0795c1bc",
   "metadata": {},
   "outputs": [
    {
     "name": "stderr",
     "output_type": "stream",
     "text": [
      "C:\\Users\\alexj\\Documents\\Anaconda\\lib\\site-packages\\sklearn\\utils\\validation.py:593: FutureWarning: np.matrix usage is deprecated in 1.0 and will raise a TypeError in 1.2. Please convert to a numpy array with np.asarray. For more information see: https://numpy.org/doc/stable/reference/generated/numpy.matrix.html\n",
      "  warnings.warn(\n"
     ]
    },
    {
     "data": {
      "text/plain": [
       "<AxesSubplot:xlabel='Classe prédite', ylabel='Classe réelle'>"
      ]
     },
     "execution_count": 104,
     "metadata": {},
     "output_type": "execute_result"
    },
    {
     "data": {
      "image/png": "[encoded data removed]",
      "text/plain": [
       "<Figure size 2000x2000 with 2 Axes>"
      ]
     },
     "metadata": {},
     "output_type": "display_data"
    }
   ],
   "source": [
    "y_pred=gridcvs.predict(X_test)\n",
    "\n",
    "heatmap = pd.crosstab(y_test, y_pred, rownames = ['Classe réelle'], colnames = ['Classe prédite'])\n",
    "plt.figure(figsize = (20,20))\n",
    "sns.heatmap(heatmap, annot = True, cmap = \"RdBu_r\", xticklabels = df.type.unique().tolist(), yticklabels = df.type.unique().tolist())"
   ]
  },
  {
   "cell_type": "code",
   "execution_count": 105,
   "id": "0fa0fe09",
   "metadata": {},
   "outputs": [
    {
     "name": "stdout",
     "output_type": "stream",
     "text": [
      "                 precision    recall  f1-score   support\n",
      "\n",
      "        facture       0.93      1.00      0.97        14\n",
      "      id_pieces       1.00      0.90      0.95        20\n",
      "justif_domicile       1.00      0.67      0.80         3\n",
      "      passeport       1.00      0.88      0.93         8\n",
      "           paye       0.97      0.94      0.96        34\n",
      "  carte postale       0.54      0.88      0.67        16\n",
      " scientific_doc       0.75      0.96      0.84        67\n",
      "           form       1.00      0.50      0.67         2\n",
      "  advertisement       1.00      0.12      0.22         8\n",
      "         letter       0.50      0.20      0.29         5\n",
      "         resume       1.00      0.71      0.83         7\n",
      "  specification       0.80      1.00      0.89         4\n",
      "           memo       0.00      0.00      0.00         3\n",
      "        invoice       0.50      0.50      0.50         4\n",
      "         budget       1.00      0.25      0.40         4\n",
      "   news_article       0.80      0.50      0.62         8\n",
      "   presentation       0.67      0.33      0.44         6\n",
      "    handwritten       0.29      0.50      0.36         4\n",
      "          email       1.00      0.75      0.86         4\n",
      "  questionnaire       0.50      0.33      0.40         6\n",
      "\n",
      "       accuracy                           0.79       227\n",
      "      macro avg       0.76      0.60      0.63       227\n",
      "   weighted avg       0.81      0.79      0.77       227\n",
      "\n"
     ]
    },
    {
     "name": "stderr",
     "output_type": "stream",
     "text": [
      "C:\\Users\\alexj\\Documents\\Anaconda\\lib\\site-packages\\sklearn\\metrics\\_classification.py:1318: UndefinedMetricWarning: Precision and F-score are ill-defined and being set to 0.0 in labels with no predicted samples. Use `zero_division` parameter to control this behavior.\n",
      "  _warn_prf(average, modifier, msg_start, len(result))\n",
      "C:\\Users\\alexj\\Documents\\Anaconda\\lib\\site-packages\\sklearn\\metrics\\_classification.py:1318: UndefinedMetricWarning: Precision and F-score are ill-defined and being set to 0.0 in labels with no predicted samples. Use `zero_division` parameter to control this behavior.\n",
      "  _warn_prf(average, modifier, msg_start, len(result))\n",
      "C:\\Users\\alexj\\Documents\\Anaconda\\lib\\site-packages\\sklearn\\metrics\\_classification.py:1318: UndefinedMetricWarning: Precision and F-score are ill-defined and being set to 0.0 in labels with no predicted samples. Use `zero_division` parameter to control this behavior.\n",
      "  _warn_prf(average, modifier, msg_start, len(result))\n"
     ]
    }
   ],
   "source": [
    "print(classification_report(y_test, y_pred, target_names = df.type.unique().tolist()))"
   ]
  },
  {
   "cell_type": "markdown",
   "id": "b4db49f7",
   "metadata": {},
   "source": [
    "### Essais avec TF-IDF + Logreg + RandomUnderSampler"
   ]
  },
  {
   "cell_type": "code",
   "execution_count": 81,
   "id": "466a4a8f",
   "metadata": {},
   "outputs": [
    {
     "name": "stdout",
     "output_type": "stream",
     "text": [
      "Training Accuracy: 99.67\n",
      "Test Accuracy: 63.44\n"
     ]
    },
    {
     "name": "stderr",
     "output_type": "stream",
     "text": [
      "C:\\Users\\alexj\\Documents\\Anaconda\\lib\\site-packages\\sklearn\\utils\\validation.py:593: FutureWarning: np.matrix usage is deprecated in 1.0 and will raise a TypeError in 1.2. Please convert to a numpy array with np.asarray. For more information see: https://numpy.org/doc/stable/reference/generated/numpy.matrix.html\n",
      "  warnings.warn(\n"
     ]
    }
   ],
   "source": [
    "X = df.mots_doctr_trad\n",
    "y = df.type_num\n",
    "\n",
    "X_train, X_test, y_train, y_test = train_test_split(X,y,test_size = 0.2, random_state = 42)\n",
    "\n",
    "vectorizer = TfidfVectorizer(ngram_range = (1,3), max_features = 10000)\n",
    "X_train = vectorizer.fit_transform(X_train)\n",
    "X_test = vectorizer.transform(X_test).todense()\n",
    "\n",
    "from imblearn.under_sampling import RandomUnderSampler\n",
    "\n",
    "ro = RandomUnderSampler()\n",
    "X_ro, y_ro = ro.fit_resample(X_train, y_train)\n",
    "\n",
    "clf_lr = LogisticRegression(random_state=22, max_iter=2000)\n",
    "\n",
    "param_grid_lr = {'solver': ['liblinear', 'lbfgs'], 'C': np.logspace(-4, 2, 9)}\n",
    "gridcvs = GridSearchCV(estimator = clf_lr, param_grid = param_grid_lr)\n",
    "gridcvs.fit(X_ro, y_ro);\n",
    "a = gridcvs.cv_results_\n",
    "train_acc = accuracy_score(y_true=y_ro, y_pred=gridcvs.predict(X_ro))\n",
    "test_acc = accuracy_score(y_true=y_test, y_pred=gridcvs.predict(X_test))\n",
    "\n",
    "print(f'Training Accuracy: {100*train_acc:.2f}')\n",
    "print(f'Test Accuracy: {100*test_acc:.2f}')"
   ]
  },
  {
   "cell_type": "markdown",
   "id": "72b3d631",
   "metadata": {},
   "source": [
    "### Essais avec TF-IDF - Logreg - SMOTE"
   ]
  },
  {
   "cell_type": "code",
   "execution_count": 82,
   "id": "968b11cf",
   "metadata": {},
   "outputs": [
    {
     "name": "stdout",
     "output_type": "stream",
     "text": [
      "Training Accuracy: 99.93\n",
      "Test Accuracy: 77.53\n"
     ]
    },
    {
     "name": "stderr",
     "output_type": "stream",
     "text": [
      "C:\\Users\\alexj\\Documents\\Anaconda\\lib\\site-packages\\sklearn\\utils\\validation.py:593: FutureWarning: np.matrix usage is deprecated in 1.0 and will raise a TypeError in 1.2. Please convert to a numpy array with np.asarray. For more information see: https://numpy.org/doc/stable/reference/generated/numpy.matrix.html\n",
      "  warnings.warn(\n"
     ]
    }
   ],
   "source": [
    "X = df.mots_doctr_trad\n",
    "y = df.type_num\n",
    "\n",
    "X_train, X_test, y_train, y_test = train_test_split(X,y,test_size = 0.2, random_state = 42)\n",
    "\n",
    "vectorizer = TfidfVectorizer(ngram_range = (1,3), max_features = 10000)\n",
    "X_train = vectorizer.fit_transform(X_train)\n",
    "X_test = vectorizer.transform(X_test).todense()\n",
    "\n",
    "from imblearn.over_sampling import SMOTE\n",
    "\n",
    "ro = SMOTE()\n",
    "X_ro, y_ro = ro.fit_resample(X_train, y_train)\n",
    "\n",
    "clf_lr = LogisticRegression(random_state=22, max_iter=2000)\n",
    "\n",
    "param_grid_lr = {'solver': ['liblinear', 'lbfgs'], 'C': np.logspace(-4, 2, 9)}\n",
    "gridcvs = GridSearchCV(estimator = clf_lr, param_grid = param_grid_lr)\n",
    "gridcvs.fit(X_ro, y_ro);\n",
    "a = gridcvs.cv_results_\n",
    "train_acc = accuracy_score(y_true=y_ro, y_pred=gridcvs.predict(X_ro))\n",
    "test_acc = accuracy_score(y_true=y_test, y_pred=gridcvs.predict(X_test))\n",
    "\n",
    "print(f'Training Accuracy: {100*train_acc:.2f}')\n",
    "print(f'Test Accuracy: {100*test_acc:.2f}')"
   ]
  },
  {
   "cell_type": "markdown",
   "id": "ad999703",
   "metadata": {},
   "source": [
    "Pas de différence notable avec l'over_sampler classique."
   ]
  },
  {
   "cell_type": "markdown",
   "id": "f733fc94",
   "metadata": {},
   "source": [
    "### Test TF-IDF + Logreg + ClusterCentroids"
   ]
  },
  {
   "cell_type": "code",
   "execution_count": 83,
   "id": "e0c20bcd",
   "metadata": {},
   "outputs": [
    {
     "name": "stdout",
     "output_type": "stream",
     "text": [
      "Training Accuracy: 99.00\n",
      "Test Accuracy: 58.15\n"
     ]
    },
    {
     "name": "stderr",
     "output_type": "stream",
     "text": [
      "C:\\Users\\alexj\\Documents\\Anaconda\\lib\\site-packages\\sklearn\\utils\\validation.py:593: FutureWarning: np.matrix usage is deprecated in 1.0 and will raise a TypeError in 1.2. Please convert to a numpy array with np.asarray. For more information see: https://numpy.org/doc/stable/reference/generated/numpy.matrix.html\n",
      "  warnings.warn(\n"
     ]
    }
   ],
   "source": [
    "X = df.mots_doctr_trad\n",
    "y = df.type_num\n",
    "\n",
    "X_train, X_test, y_train, y_test = train_test_split(X,y,test_size = 0.2, random_state = 42)\n",
    "\n",
    "vectorizer = TfidfVectorizer(ngram_range = (1,3), max_features = 10000)\n",
    "X_train = vectorizer.fit_transform(X_train)\n",
    "X_test = vectorizer.transform(X_test).todense()\n",
    "\n",
    "from imblearn.under_sampling import ClusterCentroids\n",
    "\n",
    "ro = ClusterCentroids()\n",
    "X_ro, y_ro = ro.fit_resample(X_train, y_train)\n",
    "\n",
    "clf_lr = LogisticRegression(random_state=22, max_iter=2000)\n",
    "\n",
    "param_grid_lr = {'solver': ['liblinear', 'lbfgs'], 'C': np.logspace(-4, 2, 9)}\n",
    "gridcvs = GridSearchCV(estimator = clf_lr, param_grid = param_grid_lr)\n",
    "gridcvs.fit(X_ro, y_ro);\n",
    "a = gridcvs.cv_results_\n",
    "train_acc = accuracy_score(y_true=y_ro, y_pred=gridcvs.predict(X_ro))\n",
    "test_acc = accuracy_score(y_true=y_test, y_pred=gridcvs.predict(X_test))\n",
    "\n",
    "print(f'Training Accuracy: {100*train_acc:.2f}')\n",
    "print(f'Test Accuracy: {100*test_acc:.2f}')"
   ]
  },
  {
   "cell_type": "code",
   "execution_count": 90,
   "id": "68774598",
   "metadata": {},
   "outputs": [],
   "source": [
    "df.to_csv('data_vectorized_2709_doctr_trad', sep = '\\t', index = False)"
   ]
  },
  {
   "cell_type": "code",
   "execution_count": null,
   "id": "8c1b5d6f",
   "metadata": {},
   "outputs": [],
   "source": []
  }
 ],
 "metadata": {
  "kernelspec": {
   "display_name": "Python 3 (ipykernel)",
   "language": "python",
   "name": "python3"
  },
  "language_info": {
   "codemirror_mode": {
    "name": "ipython",
    "version": 3
   },
   "file_extension": ".py",
   "mimetype": "text/x-python",
   "name": "python",
   "nbconvert_exporter": "python",
   "pygments_lexer": "ipython3",
   "version": "3.9.13"
  },
  "widgets": {
   "application/vnd.jupyter.widget-state+json": {
    "state": {},
    "version_major": 2,
    "version_minor": 0
   }
  }
 },
 "nbformat": 4,
 "nbformat_minor": 5
}
