{
 "cells": [
  {
   "cell_type": "markdown",
   "id": "62131df1",
   "metadata": {},
   "source": [
    "## On cherche à traduire l'ensemble du dataframe en une seule langue"
   ]
  },
  {
   "cell_type": "code",
   "execution_count": 11,
   "id": "3709d4ae",
   "metadata": {},
   "outputs": [],
   "source": [
    "import pandas as pd\n",
    "import numpy as np\n",
    "import matplotlib.pyplot as plt\n",
    "df = pd.read_csv('data_tokenized_2009_test_doctr', sep = '\\t')"
   ]
  },
  {
   "cell_type": "code",
   "execution_count": 12,
   "id": "93c6289d",
   "metadata": {},
   "outputs": [
    {
     "data": {
      "text/html": [
       "<div>\n",
       "<style scoped>\n",
       "    .dataframe tbody tr th:only-of-type {\n",
       "        vertical-align: middle;\n",
       "    }\n",
       "\n",
       "    .dataframe tbody tr th {\n",
       "        vertical-align: top;\n",
       "    }\n",
       "\n",
       "    .dataframe thead th {\n",
       "        text-align: right;\n",
       "    }\n",
       "</style>\n",
       "<table border=\"1\" class=\"dataframe\">\n",
       "  <thead>\n",
       "    <tr style=\"text-align: right;\">\n",
       "      <th></th>\n",
       "      <th>filename</th>\n",
       "      <th>type</th>\n",
       "      <th>size</th>\n",
       "      <th>width</th>\n",
       "      <th>height</th>\n",
       "      <th>mots_doctr</th>\n",
       "      <th>nb_mots</th>\n",
       "      <th>mots_concat</th>\n",
       "    </tr>\n",
       "  </thead>\n",
       "  <tbody>\n",
       "    <tr>\n",
       "      <th>0</th>\n",
       "      <td>img_0000000.jpg</td>\n",
       "      <td>facture</td>\n",
       "      <td>59453</td>\n",
       "      <td>750</td>\n",
       "      <td>1061</td>\n",
       "      <td>['factur', 'logo', 'joanner', 'binet', 'couber...</td>\n",
       "      <td>55</td>\n",
       "      <td>factur logo joanner binet coubertin pari factu...</td>\n",
       "    </tr>\n",
       "    <tr>\n",
       "      <th>1</th>\n",
       "      <td>img_0000001.jpg</td>\n",
       "      <td>facture</td>\n",
       "      <td>55157</td>\n",
       "      <td>750</td>\n",
       "      <td>1061</td>\n",
       "      <td>['joanner', 'binet', 'coubertin', 'pari', 'fac...</td>\n",
       "      <td>53</td>\n",
       "      <td>joanner binet coubertin pari factur facturé ce...</td>\n",
       "    </tr>\n",
       "    <tr>\n",
       "      <th>2</th>\n",
       "      <td>img_0000002.jpg</td>\n",
       "      <td>facture</td>\n",
       "      <td>32097</td>\n",
       "      <td>726</td>\n",
       "      <td>1024</td>\n",
       "      <td>['factur', 'entreprise', 'nom', 'société', 'ad...</td>\n",
       "      <td>28</td>\n",
       "      <td>factur entreprise nom société adresse postal a...</td>\n",
       "    </tr>\n",
       "    <tr>\n",
       "      <th>3</th>\n",
       "      <td>img_0000003.jpg</td>\n",
       "      <td>facture</td>\n",
       "      <td>63937</td>\n",
       "      <td>750</td>\n",
       "      <td>1061</td>\n",
       "      <td>['joanner', 'binet', 'coubertin', 'pari', 'fac...</td>\n",
       "      <td>53</td>\n",
       "      <td>joanner binet coubertin pari factur cendrillon...</td>\n",
       "    </tr>\n",
       "    <tr>\n",
       "      <th>4</th>\n",
       "      <td>img_0000004.jpg</td>\n",
       "      <td>facture</td>\n",
       "      <td>79474</td>\n",
       "      <td>773</td>\n",
       "      <td>771</td>\n",
       "      <td>['payer', 'ligne', 'factur', 'sfideli', 'date'...</td>\n",
       "      <td>63</td>\n",
       "      <td>payer ligne factur sfideli date création date ...</td>\n",
       "    </tr>\n",
       "  </tbody>\n",
       "</table>\n",
       "</div>"
      ],
      "text/plain": [
       "          filename     type   size  width  height  \\\n",
       "0  img_0000000.jpg  facture  59453    750    1061   \n",
       "1  img_0000001.jpg  facture  55157    750    1061   \n",
       "2  img_0000002.jpg  facture  32097    726    1024   \n",
       "3  img_0000003.jpg  facture  63937    750    1061   \n",
       "4  img_0000004.jpg  facture  79474    773     771   \n",
       "\n",
       "                                          mots_doctr  nb_mots  \\\n",
       "0  ['factur', 'logo', 'joanner', 'binet', 'couber...       55   \n",
       "1  ['joanner', 'binet', 'coubertin', 'pari', 'fac...       53   \n",
       "2  ['factur', 'entreprise', 'nom', 'société', 'ad...       28   \n",
       "3  ['joanner', 'binet', 'coubertin', 'pari', 'fac...       53   \n",
       "4  ['payer', 'ligne', 'factur', 'sfideli', 'date'...       63   \n",
       "\n",
       "                                         mots_concat  \n",
       "0  factur logo joanner binet coubertin pari factu...  \n",
       "1  joanner binet coubertin pari factur facturé ce...  \n",
       "2  factur entreprise nom société adresse postal a...  \n",
       "3  joanner binet coubertin pari factur cendrillon...  \n",
       "4  payer ligne factur sfideli date création date ...  "
      ]
     },
     "execution_count": 12,
     "metadata": {},
     "output_type": "execute_result"
    }
   ],
   "source": [
    "df.head()"
   ]
  },
  {
   "cell_type": "code",
   "execution_count": 19,
   "id": "9064e09b",
   "metadata": {},
   "outputs": [
    {
     "data": {
      "text/plain": [
       "Langue\n",
       "UNKNOWN     16\n",
       "af           6\n",
       "ca          67\n",
       "cy           9\n",
       "de          34\n",
       "en         887\n",
       "es           6\n",
       "et           2\n",
       "fi           2\n",
       "fr         410\n",
       "hu          17\n",
       "id          12\n",
       "it          17\n",
       "nl           4\n",
       "no           3\n",
       "pl           1\n",
       "pt          33\n",
       "ro          11\n",
       "so          10\n",
       "sq           2\n",
       "sv           1\n",
       "sw           1\n",
       "tl          49\n",
       "vi           8\n",
       "Name: filename, dtype: int64"
      ]
     },
     "execution_count": 19,
     "metadata": {},
     "output_type": "execute_result"
    }
   ],
   "source": [
    "df.groupby('Langue').count()['filename']"
   ]
  },
  {
   "cell_type": "markdown",
   "id": "036add2d",
   "metadata": {},
   "source": [
    "Le nombre de texte en anglais est bien plus important, on choisit donc de traduire l'intégralité en anglais."
   ]
  },
  {
   "cell_type": "code",
   "execution_count": 20,
   "id": "5ce68c05",
   "metadata": {},
   "outputs": [
    {
     "name": "stderr",
     "output_type": "stream",
     "text": [
      "/home/clement/anaconda3/lib/python3.9/site-packages/transformers/models/marian/tokenization_marian.py:194: UserWarning: Recommended: pip install sacremoses.\n",
      "  warnings.warn(\"Recommended: pip install sacremoses.\")\n"
     ]
    }
   ],
   "source": [
    "from transformers import pipeline\n",
    "fr_to_en = pipeline(\"translation_fr_to_en\",model=\"Helsinki-NLP/opus-mt-fr-en\")\n",
    "i = fr_to_en(\"Bonjour, c'est simplement une phrase de test\")"
   ]
  },
  {
   "cell_type": "code",
   "execution_count": 21,
   "id": "70498bd7",
   "metadata": {},
   "outputs": [
    {
     "data": {
      "text/plain": [
       "[{'translation_text': \"Hello, it's just a test phrase.\"}]"
      ]
     },
     "execution_count": 21,
     "metadata": {},
     "output_type": "execute_result"
    }
   ],
   "source": [
    "i"
   ]
  },
  {
   "cell_type": "code",
   "execution_count": 22,
   "id": "31d40bfc",
   "metadata": {},
   "outputs": [
    {
     "data": {
      "text/plain": [
       "\"Hello, it's just a test phrase.\""
      ]
     },
     "execution_count": 22,
     "metadata": {},
     "output_type": "execute_result"
    }
   ],
   "source": [
    "i[0]['translation_text']"
   ]
  },
  {
   "cell_type": "markdown",
   "id": "4cfd81a8",
   "metadata": {},
   "source": [
    "Le test est plutôt concluant. On va le généraliser à l'ensemble du dataset. On définit une fonction de traduction, et une fonction qui détecte si le texte est un chiffre ou pas. Si c'est le cas, on le supprime."
   ]
  },
  {
   "cell_type": "code",
   "execution_count": 23,
   "id": "6912040f",
   "metadata": {},
   "outputs": [],
   "source": [
    "def isnot_number(s):\n",
    "    try:\n",
    "        float(s) \n",
    "    except ValueError:\n",
    "        return True\n",
    "    else:\n",
    "        return False\n",
    "    \n",
    "def traduction(liste):\n",
    "    liste_traduite = []\n",
    "    for i in liste:\n",
    "        if isnot_number(i):\n",
    "            dico = fr_to_en(i)\n",
    "            liste_traduite.append(dico[0]['translation_text'])\n",
    "    return liste_traduite"
   ]
  },
  {
   "cell_type": "code",
   "execution_count": 24,
   "id": "3f836d0e",
   "metadata": {},
   "outputs": [
    {
     "data": {
      "text/plain": [
       "[\"It's\", 'One', 'list', 'of the', 'test']"
      ]
     },
     "execution_count": 24,
     "metadata": {},
     "output_type": "execute_result"
    }
   ],
   "source": [
    "traduction([\"C'est\",'Une','liste','de','test','1','1.0'])"
   ]
  },
  {
   "cell_type": "markdown",
   "id": "c5fe9329",
   "metadata": {},
   "source": [
    "La colonne mots_Doctr_lemma est un string de liste. On cherche dans un premier temps à la convertir"
   ]
  },
  {
   "cell_type": "code",
   "execution_count": 25,
   "id": "6a0db065",
   "metadata": {},
   "outputs": [],
   "source": [
    "import ast\n",
    "df['mots_Doctr_lemma'] = df['mots_Doctr_lemma'].apply(ast.literal_eval)"
   ]
  },
  {
   "cell_type": "code",
   "execution_count": 26,
   "id": "38170742",
   "metadata": {},
   "outputs": [],
   "source": [
    "mask = df['Langue']=='fr'\n",
    "df.loc[mask,'mots_Doctr_lemma_trad'] = df.loc[mask]['mots_Doctr_lemma'].apply(traduction)"
   ]
  },
  {
   "cell_type": "code",
   "execution_count": null,
   "id": "e83c8229",
   "metadata": {},
   "outputs": [],
   "source": [
    "mask = df['Langue']!='fr'\n",
    "df.loc[mask,'mots_Doctr_lemma_trad'] = df.loc[mask]['mots_Doctr_lemma']"
   ]
  },
  {
   "cell_type": "code",
   "execution_count": 27,
   "id": "a0b2fbdc",
   "metadata": {},
   "outputs": [
    {
     "data": {
      "text/html": [
       "<div>\n",
       "<style scoped>\n",
       "    .dataframe tbody tr th:only-of-type {\n",
       "        vertical-align: middle;\n",
       "    }\n",
       "\n",
       "    .dataframe tbody tr th {\n",
       "        vertical-align: top;\n",
       "    }\n",
       "\n",
       "    .dataframe thead th {\n",
       "        text-align: right;\n",
       "    }\n",
       "</style>\n",
       "<table border=\"1\" class=\"dataframe\">\n",
       "  <thead>\n",
       "    <tr style=\"text-align: right;\">\n",
       "      <th></th>\n",
       "      <th>filename</th>\n",
       "      <th>type</th>\n",
       "      <th>size</th>\n",
       "      <th>width</th>\n",
       "      <th>height</th>\n",
       "      <th>mots_tesseract</th>\n",
       "      <th>mots_Doctr</th>\n",
       "      <th>Langue</th>\n",
       "      <th>mots_Doctr_lemma</th>\n",
       "      <th>mots_concat_tesseract</th>\n",
       "      <th>mots_concat_Doctr</th>\n",
       "      <th>mots_Doctr_lemma_trad</th>\n",
       "    </tr>\n",
       "  </thead>\n",
       "  <tbody>\n",
       "    <tr>\n",
       "      <th>0</th>\n",
       "      <td>img_0000000.jpg</td>\n",
       "      <td>facture</td>\n",
       "      <td>59453</td>\n",
       "      <td>750</td>\n",
       "      <td>1061</td>\n",
       "      <td>['facture', 'joanna', 'binet', 'coubertin', '3...</td>\n",
       "      <td>['facture', 'logo', 'joanna', 'binet', 'couber...</td>\n",
       "      <td>fr</td>\n",
       "      <td>[factur, logo, joanner, binet, coubertin, 3140...</td>\n",
       "      <td>facture joanna binet coubertin 31400 pars fact...</td>\n",
       "      <td>factur logo joanner binet coubertin 31400 pari...</td>\n",
       "      <td>[bill, logo, joanner, binet, coubertine, bet, ...</td>\n",
       "    </tr>\n",
       "    <tr>\n",
       "      <th>1</th>\n",
       "      <td>img_0000001.jpg</td>\n",
       "      <td>facture</td>\n",
       "      <td>55157</td>\n",
       "      <td>750</td>\n",
       "      <td>1061</td>\n",
       "      <td>['joanna', 'binet', 'coubertin', '31400', 'par...</td>\n",
       "      <td>['joanna', 'binet', 'coubertin', '31400', 'par...</td>\n",
       "      <td>fr</td>\n",
       "      <td>[joanner, binet, coubertin, 31400, pari, factu...</td>\n",
       "      <td>joanna binet coubertin 31400 paris facturé env...</td>\n",
       "      <td>joanner binet coubertin 31400 pari factur fact...</td>\n",
       "      <td>[joanner, binet, coubertine, bet, bill, billed...</td>\n",
       "    </tr>\n",
       "    <tr>\n",
       "      <th>2</th>\n",
       "      <td>img_0000002.jpg</td>\n",
       "      <td>facture</td>\n",
       "      <td>32097</td>\n",
       "      <td>726</td>\n",
       "      <td>1024</td>\n",
       "      <td>['facture', 'entreprise', 'nom', 'société', 'a...</td>\n",
       "      <td>['facture', 'mon', 'entreprise', 'nom', 'la', ...</td>\n",
       "      <td>fr</td>\n",
       "      <td>[factur, entreprise, nom, société, adresse, po...</td>\n",
       "      <td>facture entreprise nom société adresse postale...</td>\n",
       "      <td>factur entreprise nom société adresse postal a...</td>\n",
       "      <td>[bill, enterprise, name, company, Address, pos...</td>\n",
       "    </tr>\n",
       "    <tr>\n",
       "      <th>3</th>\n",
       "      <td>img_0000003.jpg</td>\n",
       "      <td>facture</td>\n",
       "      <td>63937</td>\n",
       "      <td>750</td>\n",
       "      <td>1061</td>\n",
       "      <td>['joanna', 'binet', 'coubertin', '31400', 'par...</td>\n",
       "      <td>['joanna', 'binet', 'coubertin', '31400', 'par...</td>\n",
       "      <td>fr</td>\n",
       "      <td>[joanner, binet, coubertin, 31400, pari, factu...</td>\n",
       "      <td>joanna binet coubertin 31400 paris facture env...</td>\n",
       "      <td>joanner binet coubertin 31400 pari factur cend...</td>\n",
       "      <td>[joanner, binet, coubertine, bet, bill, Butter...</td>\n",
       "    </tr>\n",
       "    <tr>\n",
       "      <th>4</th>\n",
       "      <td>img_0000004.jpg</td>\n",
       "      <td>facture</td>\n",
       "      <td>79474</td>\n",
       "      <td>773</td>\n",
       "      <td>771</td>\n",
       "      <td>['payer', 'ligne', 'facture', 'sfideli', 'f/05...</td>\n",
       "      <td>['payer', 'ligne', 'facture', 'sfideli', 'f/05...</td>\n",
       "      <td>fr</td>\n",
       "      <td>[payer, ligne, factur, sfideli, f/05.2020/099,...</td>\n",
       "      <td>payer ligne facture sfideli f/05.2020/099 date...</td>\n",
       "      <td>payer ligne factur sfideli f/05.2020/099 date ...</td>\n",
       "      <td>[pay, line, bill, sfideli, f/05/2020/099, date...</td>\n",
       "    </tr>\n",
       "  </tbody>\n",
       "</table>\n",
       "</div>"
      ],
      "text/plain": [
       "          filename     type   size  width  height  \\\n",
       "0  img_0000000.jpg  facture  59453    750    1061   \n",
       "1  img_0000001.jpg  facture  55157    750    1061   \n",
       "2  img_0000002.jpg  facture  32097    726    1024   \n",
       "3  img_0000003.jpg  facture  63937    750    1061   \n",
       "4  img_0000004.jpg  facture  79474    773     771   \n",
       "\n",
       "                                      mots_tesseract  \\\n",
       "0  ['facture', 'joanna', 'binet', 'coubertin', '3...   \n",
       "1  ['joanna', 'binet', 'coubertin', '31400', 'par...   \n",
       "2  ['facture', 'entreprise', 'nom', 'société', 'a...   \n",
       "3  ['joanna', 'binet', 'coubertin', '31400', 'par...   \n",
       "4  ['payer', 'ligne', 'facture', 'sfideli', 'f/05...   \n",
       "\n",
       "                                          mots_Doctr Langue  \\\n",
       "0  ['facture', 'logo', 'joanna', 'binet', 'couber...     fr   \n",
       "1  ['joanna', 'binet', 'coubertin', '31400', 'par...     fr   \n",
       "2  ['facture', 'mon', 'entreprise', 'nom', 'la', ...     fr   \n",
       "3  ['joanna', 'binet', 'coubertin', '31400', 'par...     fr   \n",
       "4  ['payer', 'ligne', 'facture', 'sfideli', 'f/05...     fr   \n",
       "\n",
       "                                    mots_Doctr_lemma  \\\n",
       "0  [factur, logo, joanner, binet, coubertin, 3140...   \n",
       "1  [joanner, binet, coubertin, 31400, pari, factu...   \n",
       "2  [factur, entreprise, nom, société, adresse, po...   \n",
       "3  [joanner, binet, coubertin, 31400, pari, factu...   \n",
       "4  [payer, ligne, factur, sfideli, f/05.2020/099,...   \n",
       "\n",
       "                               mots_concat_tesseract  \\\n",
       "0  facture joanna binet coubertin 31400 pars fact...   \n",
       "1  joanna binet coubertin 31400 paris facturé env...   \n",
       "2  facture entreprise nom société adresse postale...   \n",
       "3  joanna binet coubertin 31400 paris facture env...   \n",
       "4  payer ligne facture sfideli f/05.2020/099 date...   \n",
       "\n",
       "                                   mots_concat_Doctr  \\\n",
       "0  factur logo joanner binet coubertin 31400 pari...   \n",
       "1  joanner binet coubertin 31400 pari factur fact...   \n",
       "2  factur entreprise nom société adresse postal a...   \n",
       "3  joanner binet coubertin 31400 pari factur cend...   \n",
       "4  payer ligne factur sfideli f/05.2020/099 date ...   \n",
       "\n",
       "                               mots_Doctr_lemma_trad  \n",
       "0  [bill, logo, joanner, binet, coubertine, bet, ...  \n",
       "1  [joanner, binet, coubertine, bet, bill, billed...  \n",
       "2  [bill, enterprise, name, company, Address, pos...  \n",
       "3  [joanner, binet, coubertine, bet, bill, Butter...  \n",
       "4  [pay, line, bill, sfideli, f/05/2020/099, date...  "
      ]
     },
     "execution_count": 27,
     "metadata": {},
     "output_type": "execute_result"
    }
   ],
   "source": [
    "df.head()"
   ]
  },
  {
   "cell_type": "code",
   "execution_count": 34,
   "id": "2393cdd3",
   "metadata": {},
   "outputs": [
    {
     "name": "stdout",
     "output_type": "stream",
     "text": [
      "mots_Doctr_lemma_trad    [bill, logo, joanner, binet, coubertine, bet, ...\n",
      "mots_Doctr_lemma         [factur, logo, joanner, binet, coubertin, 3140...\n",
      "Name: 0, dtype: object\n"
     ]
    }
   ],
   "source": [
    "print((df.iloc[0][['mots_Doctr_lemma_trad','mots_Doctr_lemma']]))"
   ]
  },
  {
   "cell_type": "code",
   "execution_count": 35,
   "id": "617ac8cc",
   "metadata": {},
   "outputs": [],
   "source": [
    "df.to_csv('data_tokenized_2309', sep = '\\t', index = False)"
   ]
  },
  {
   "cell_type": "code",
   "execution_count": null,
   "id": "a187cba2",
   "metadata": {},
   "outputs": [],
   "source": []
  }
 ],
 "metadata": {
  "kernelspec": {
   "display_name": "Python 3 (ipykernel)",
   "language": "python",
   "name": "python3"
  },
  "language_info": {
   "codemirror_mode": {
    "name": "ipython",
    "version": 3
   },
   "file_extension": ".py",
   "mimetype": "text/x-python",
   "name": "python",
   "nbconvert_exporter": "python",
   "pygments_lexer": "ipython3",
   "version": "3.9.7"
  }
 },
 "nbformat": 4,
 "nbformat_minor": 5
}
